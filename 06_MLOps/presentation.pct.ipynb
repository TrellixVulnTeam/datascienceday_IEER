{
 "cells": [
  {
   "cell_type": "markdown",
   "id": "20c8bb69",
   "metadata": {
    "slideshow": {
     "slide_type": "slide"
    }
   },
   "source": [
    "# MLOps\n",
    "\n",
    "![MLOps](images/MLOps.jpg)"
   ]
  },
  {
   "cell_type": "markdown",
   "id": "6dbeb931",
   "metadata": {
    "slideshow": {
     "slide_type": "slide"
    }
   },
   "source": [
    "![hidden technical debt paper](images/hidden_technical_debt_2015.jpg)"
   ]
  },
  {
   "cell_type": "markdown",
   "id": "5f57407b",
   "metadata": {
    "slideshow": {
     "slide_type": "subslide"
    }
   },
   "source": [
    "* __Reproduzierbarkeit__: \n",
    "    * Versionierung von Daten und Code\n",
    "* __Monitoring__:\n",
    "    * Überwachung des Verhaltens des Modells in Produktion"
   ]
  },
  {
   "cell_type": "markdown",
   "id": "00a67013",
   "metadata": {
    "slideshow": {
     "slide_type": "slide"
    }
   },
   "source": [
    "# Code\n",
    "\n",
    "* GitHub: https://github.com/datanizing/datascienceday/\n",
    "* Verzeichnis: `06_MLOps`"
   ]
  },
  {
   "cell_type": "markdown",
   "id": "d64b60c2",
   "metadata": {
    "slideshow": {
     "slide_type": "slide"
    }
   },
   "source": [
    "## [DVC](https://dvc.org/)\n",
    "\n",
    "![DVC_project_versions](https://dvc.org/static/39d86590fa8ead1cd1247c883a8cf2c0/fa73e/project-versions.webp)"
   ]
  },
  {
   "cell_type": "markdown",
   "id": "8ceef7f7",
   "metadata": {
    "slideshow": {
     "slide_type": "subslide"
    }
   },
   "source": [
    "## DVC Pipelines\n",
    "\n",
    "#### Daten laden\n",
    "\n",
    "```\n",
    "python load_data.py\n",
    "```"
   ]
  },
  {
   "cell_type": "code",
   "execution_count": 1,
   "id": "fd3b9daa",
   "metadata": {
    "lines_to_next_cell": 2,
    "slideshow": {
     "slide_type": "fragment"
    }
   },
   "outputs": [
    {
     "name": "stdout",
     "output_type": "stream",
     "text": [
      "Modifying stage 'load_data' in 'dvc.yaml'                             core\u001b[39m>\n",
      "\n",
      "To track the changes with git, run:\n",
      "\n",
      "    git add dvc.yaml\n",
      "\n",
      "To enable auto staging, run:\n",
      "\n",
      "\tdvc config core.autostage true\n",
      "\u001b[0m"
     ]
    }
   ],
   "source": [
    "!dvc run -n load_data --no-exec --force -o data/raw/transport-short.csv -d load_data.py python load_data.py"
   ]
  },
  {
   "cell_type": "markdown",
   "id": "08fa7ccf",
   "metadata": {
    "slideshow": {
     "slide_type": "subslide"
    }
   },
   "source": [
    "## DVC Pipelines\n",
    "\n",
    "#### Model trainieren\n",
    "\n",
    "```\n",
    "python train.py\n",
    "```"
   ]
  },
  {
   "cell_type": "code",
   "execution_count": 2,
   "id": "ffe921e2",
   "metadata": {},
   "outputs": [
    {
     "name": "stdout",
     "output_type": "stream",
     "text": [
      "Modifying stage 'train' in 'dvc.yaml'                                 core\u001b[39m>\n",
      "\n",
      "To track the changes with git, run:\n",
      "\n",
      "    git add dvc.yaml\n",
      "\n",
      "To enable auto staging, run:\n",
      "\n",
      "\tdvc config core.autostage true\n",
      "\u001b[0m"
     ]
    }
   ],
   "source": [
    "!dvc run -n train --no-exec --force -d data/raw/transport-short.csv -d train.py -o models/model/ python train.py"
   ]
  },
  {
   "cell_type": "markdown",
   "id": "12ea5bb6",
   "metadata": {
    "slideshow": {
     "slide_type": "subslide"
    }
   },
   "source": [
    "## DVC Pipelines"
   ]
  },
  {
   "cell_type": "code",
   "execution_count": 3,
   "id": "a9b6fc91",
   "metadata": {
    "slideshow": {
     "slide_type": "-"
    }
   },
   "outputs": [
    {
     "name": "stdout",
     "output_type": "stream",
     "text": [
      "+-----------+  \r\n",
      "| load_data |  \r\n",
      "+-----------+  \r\n",
      "      *        \r\n",
      "      *        \r\n",
      "      *        \r\n",
      "  +-------+    \r\n",
      "  | train |    \r\n",
      "  +-------+    \r\n"
     ]
    }
   ],
   "source": [
    "!dvc dag --full | cat"
   ]
  },
  {
   "cell_type": "code",
   "execution_count": 4,
   "id": "d88de559",
   "metadata": {
    "slideshow": {
     "slide_type": "-"
    }
   },
   "outputs": [
    {
     "name": "stdout",
     "output_type": "stream",
     "text": [
      "+------------------------------+ \r\n",
      "| data/raw/transport-short.csv | \r\n",
      "+------------------------------+ \r\n",
      "                *                \r\n",
      "                *                \r\n",
      "                *                \r\n",
      "        +--------------+         \r\n",
      "        | models/model |         \r\n",
      "        +--------------+         \r\n"
     ]
    }
   ],
   "source": [
    "!dvc dag --out | cat"
   ]
  },
  {
   "cell_type": "markdown",
   "id": "5b0d1abb",
   "metadata": {
    "slideshow": {
     "slide_type": "subslide"
    }
   },
   "source": [
    "## Pipelines\n",
    "In DVC lassen sich Pipelines definieren und damit lasse sich Trainings-Skripte und Daten miteinander verbinden."
   ]
  },
  {
   "cell_type": "markdown",
   "id": "f1d071a4",
   "metadata": {},
   "source": [
    "#### `dvc.yaml`\n",
    "```yaml\n",
    "stages:\n",
    "  load_data:\n",
    "    cmd: python load_data.py\n",
    "    outs:\n",
    "    - data/raw/transport-short.csv\n",
    "  train:\n",
    "    cmd: python train.py\n",
    "    deps:\n",
    "    - data/raw/transport-short.csv\n",
    "    outs:\n",
    "    - models/model/\n",
    "```"
   ]
  },
  {
   "cell_type": "markdown",
   "id": "77ff8b6d",
   "metadata": {
    "slideshow": {
     "slide_type": "subslide"
    }
   },
   "source": [
    "Reproduzieren der Schritte mit"
   ]
  },
  {
   "cell_type": "code",
   "execution_count": 5,
   "id": "8a70a0f2",
   "metadata": {},
   "outputs": [
    {
     "name": "stdout",
     "output_type": "stream",
     "text": [
      "Running stage 'load_data':                                            core\u001b[39m>\n",
      "> python load_data.py\n",
      "Generating lock file 'dvc.lock'                                                 \n",
      "Updating lock file 'dvc.lock'\n",
      "\n",
      "Running stage 'train':\n",
      "> python train.py\n",
      "Computing file/dir hashes (only done once)            |0.00 [00:00,      ?md5/s]\n",
      "!\u001b[A\n",
      "  0%|          |                                   0.00/? [00:00<?,        ?B/s]\u001b[A\n",
      "                                                                                \u001b[A\n",
      "!\u001b[A\n",
      "  0%|          |                                   0.00/? [00:00<?,        ?B/s]\u001b[A\n",
      "                                                                                \u001b[A\n",
      "!\u001b[A\n",
      "  0%|          |                                   0.00/? [00:00<?,        ?B/s]\u001b[A\n",
      "                                                                                \u001b[A\n",
      "!\u001b[A\n",
      "  0%|          |                                   0.00/? [00:00<?,        ?B/s]\u001b[A\n",
      "                                                                                \u001b[A\n",
      "!\u001b[A\n",
      "  0%|          |                                   0.00/? [00:00<?,        ?B/s]\u001b[A\n",
      "                                                                                \u001b[A\n",
      "!\u001b[A\n",
      "  0%|          |                                   0.00/? [00:00<?,        ?B/s]\u001b[A\n",
      "  0% Transferring|                                   |0/7 [00:00<?,     ?file/s]\u001b[A\n",
      "!\u001b[A\n",
      "  0%|          |660da34863d60439b34f830f33bf03.dir 0.00/? [00:00<?,        ?B/s]\u001b[A\n",
      "  0%|          |660da34863d60439b34f830f33bf03.di0.00/455 [00:00<?,        ?B/s]\u001b[A\n",
      "Updating lock file 'dvc.lock'                                                   \u001b[A\n",
      "\n",
      "To track the changes with git, run:\n",
      "\n",
      "    git add dvc.lock\n",
      "\n",
      "To enable auto staging, run:\n",
      "\n",
      "\tdvc config core.autostage true\n",
      "Use `dvc push` to send your updates to remote storage.\n",
      "\u001b[0m"
     ]
    }
   ],
   "source": [
    "!dvc repro"
   ]
  },
  {
   "cell_type": "markdown",
   "id": "9303abfc",
   "metadata": {
    "slideshow": {
     "slide_type": "subslide"
    }
   },
   "source": [
    "## Datenstände\n",
    "\n",
    "Datenstände werden in `dvc.lock` über Hashes abgebildet.\n",
    "```yaml\n",
    "stages:\n",
    "  load_data:\n",
    "    cmd: python load_data.py\n",
    "    deps:\n",
    "    - path: load_data.py\n",
    "      md5: ddeb3c7968c47788fb055752566e725d\n",
    "      size: 153\n",
    "    outs:\n",
    "    - path: data/raw/transport-short.csv\n",
    "      md5: 3057d4f316405b0a282328d2f9ee5748\n",
    "      size: 551260620\n",
    "  train:\n",
    "     ...\n",
    "```"
   ]
  },
  {
   "cell_type": "markdown",
   "id": "2c3ab30c",
   "metadata": {
    "slideshow": {
     "slide_type": "subslide"
    }
   },
   "source": [
    "## DVC Data\n",
    "\n",
    "Folgende Datenablagen werden unterstützt:\n",
    "* Amazon S3 (und kompatible, z.B. Minio)\n",
    "* Azure Blob Storage\n",
    "* Google Drive\n",
    "* Google Cloud Storage\n",
    "* Aliyon OSS\n",
    "* SSH\n",
    "* HDFS\n",
    "* WebHDFS\n",
    "* HTTP\n",
    "* WebDAV\n",
    "* local remote (z.B. Netzlaufwerke)"
   ]
  },
  {
   "cell_type": "markdown",
   "id": "fbf3daee",
   "metadata": {
    "slideshow": {
     "slide_type": "subslide"
    }
   },
   "source": [
    "## DVC Remote\n",
    "\n",
    "Hier, [DVC Remote with Minio](http://localhost:9000/minio/dvcrepo/)\n",
    "\n",
    "* ACCESS KEY: `minio-access-key`\n",
    "* SECRET KEY: `minio-secret-key`"
   ]
  },
  {
   "cell_type": "code",
   "execution_count": null,
   "id": "54b54d6e",
   "metadata": {
    "slideshow": {
     "slide_type": "fragment"
    }
   },
   "outputs": [
    {
     "name": "stdout",
     "output_type": "stream",
     "text": [
      "  0% Querying remote cache|                          |0/1 [00:00<?,     ?file/s]"
     ]
    }
   ],
   "source": [
    "!dvc push"
   ]
  },
  {
   "cell_type": "code",
   "execution_count": null,
   "id": "1953f3a2",
   "metadata": {
    "slideshow": {
     "slide_type": "fragment"
    }
   },
   "outputs": [],
   "source": [
    "!dvc pull"
   ]
  },
  {
   "cell_type": "markdown",
   "id": "3028a45c",
   "metadata": {
    "slideshow": {
     "slide_type": "slide"
    }
   },
   "source": [
    "# Sentiment API\n",
    "\n",
    "Mittels [FastAPI](https://fastapi.tiangolo.com/) wird eine API für das Sentiment Model bereitgestellt."
   ]
  },
  {
   "cell_type": "markdown",
   "id": "fdd756ef",
   "metadata": {
    "slideshow": {
     "slide_type": "subslide"
    }
   },
   "source": [
    "### Datenmodell für Ein- und Ausgabe\n",
    "\n",
    "```python\n",
    "from pydantic import BaseModel, Field\n",
    "\n",
    "# Datenmodell der Eingabe\n",
    "class Input(BaseModel):\n",
    "    sentence: str = Field(example=\"Das ist ein toller Satz.\")\n",
    "\n",
    "# Datenmodell der Ausgabe\n",
    "class Sentiment(BaseModel):\n",
    "    label: str = Field(description=\"Sentiment\", example=\"NEGATIVE\")\n",
    "    score: float = Field(description=\"Score\", example=0.9526780247688293)\n",
    "```"
   ]
  },
  {
   "cell_type": "markdown",
   "id": "97db0ca1",
   "metadata": {
    "slideshow": {
     "slide_type": "subslide"
    }
   },
   "source": [
    "### API Endpunkt\n",
    "\n",
    "```python\n",
    "from fastapi import FastAPI, Response\n",
    "\n",
    "# Erzeugen der FastAPI Anwendung\n",
    "app = FastAPI(\n",
    "    title=\"Sentiment Model API\",\n",
    "    description=\"Sentiment Model API\",\n",
    "    version=\"0.1\",)\n",
    "\n",
    "# Modell laden\n",
    "model_path = \"models/model\"\n",
    "\n",
    "@app.post('/predict', response_model=Sentiment, operation_id=\"predict_post\")\n",
    "async def predict(response: Response, input: Input):\n",
    "        pred=sentiment_classifier(input.sentence)[0]\n",
    "        sentiment = Sentiment.parse_obj(pred)\n",
    "        return sentiment\n",
    "```\n"
   ]
  },
  {
   "cell_type": "markdown",
   "id": "926be37f",
   "metadata": {
    "slideshow": {
     "slide_type": "subslide"
    }
   },
   "source": [
    "## API Testen\n",
    "\n",
    "[uvicorn Webserver](https://www.uvicorn.org/)\n",
    "\n",
    "```python\n",
    "if __name__ == \"__main__\":\n",
    "    import uvicorn\n",
    "    uvicorn.run(app, host=\"127.0.0.1\", port=8080)\n",
    "```\n",
    "\n",
    "Webserver starten\n",
    "```\n",
    "python app.py\n",
    "```"
   ]
  },
  {
   "cell_type": "markdown",
   "id": "bd0b7759",
   "metadata": {
    "slideshow": {
     "slide_type": "subslide"
    }
   },
   "source": [
    "## Schnittstelle\n",
    "\n",
    "FastAPI stellt eine Dokumentation der Schnittstelle unter [/docs](http://localhost:8080/docs) zur Verfügung."
   ]
  },
  {
   "cell_type": "markdown",
   "id": "9d491c0a",
   "metadata": {
    "slideshow": {
     "slide_type": "subslide"
    }
   },
   "source": [
    "### Client Code erzeugen\n",
    "Der Client wird mittles [`openapi-python-client` Generator](https://github.com/openapi-generators/openapi-python-client) z.B. wie folgt erzeugt.\n",
    "```\n",
    "openapi-python-client generate --url http://127.0.0.1/openapi.json\n",
    "```"
   ]
  },
  {
   "cell_type": "markdown",
   "id": "567a480a",
   "metadata": {
    "slideshow": {
     "slide_type": "subslide"
    }
   },
   "source": [
    "## API aufrufen"
   ]
  },
  {
   "cell_type": "code",
   "execution_count": null,
   "id": "fa90d74e",
   "metadata": {
    "slideshow": {
     "slide_type": "fragment"
    }
   },
   "outputs": [],
   "source": [
    "import sys\n",
    "sys.path.append(\"sentiment-model-api-client\")\n",
    "from sentiment_model_api_client import Client\n",
    "from sentiment_model_api_client.models import Input\n",
    "from sentiment_model_api_client.api.default import predict_post\n",
    "\n",
    "client = Client(base_url=\"http://localhost:8080\", timeout=30)\n",
    "\n",
    "predict_post.sync(client=client, \n",
    "                  json_body=Input(sentence=\n",
    "                                  \"I wonder how close a drone has to get to private property before someone \"\n",
    "                                  \"can shoot it down, because that will definitely happen.\"))"
   ]
  },
  {
   "cell_type": "markdown",
   "id": "8d735189",
   "metadata": {
    "slideshow": {
     "slide_type": "slide"
    }
   },
   "source": [
    "# Monitoring\n",
    "\n",
    "Modelausgaben über Header mitgeben, damit der Prometheus Client diese abfangen kann.\n",
    "\n",
    "#### `app.py`\n",
    "```python\n",
    "# Endpunkt für Prediction\n",
    "@app.post('/predict', response_model=Sentiment, operation_id=\"predict_post\")\n",
    "async def predict(response: Response, input: Input):\n",
    "    pred = sentiment_classifier(input.sentence)[0]\n",
    "    sentiment = Sentiment(**pred)\n",
    "\n",
    "    # Header Monitoring\n",
    "    response.headers[\"X-model-score\"] = str(sentiment.score)`**\n",
    "    response.headers[\"X-model-sentiment\"] = str(sentiment.label)`**\n",
    "\n",
    "    return sentiment\n"
   ]
  },
  {
   "cell_type": "markdown",
   "id": "8a1d5e88",
   "metadata": {
    "slideshow": {
     "slide_type": "subslide"
    }
   },
   "source": [
    "Metriken definieren\n",
    "\n",
    "```python\n",
    "from prometheus_client import Histogram, Counter\n",
    "\n",
    "def model_output(metric_namespace: str = \"\", metric_subsystem: str = \"\"):\n",
    "    SCORE = Histogram(\n",
    "        \"model_score\",\n",
    "        \"Predicted score of model\",\n",
    "        buckets=(0, .1, .2, .3, .4, .5, .6, .7, .8, .9),\n",
    "        namespace=metric_namespace,\n",
    "        subsystem=metric_subsystem,\n",
    "    )\n",
    "    ...\n",
    "```"
   ]
  },
  {
   "cell_type": "markdown",
   "id": "3143d4b2",
   "metadata": {
    "slideshow": {
     "slide_type": "subslide"
    }
   },
   "source": [
    "```python\n",
    "    ...\n",
    "    SENTIMENT = Counter(\n",
    "        \"sentiment\",\n",
    "        \"Predicted sentiment\",\n",
    "        namespace=metric_namespace,\n",
    "        subsystem=metric_subsystem,\n",
    "        labelnames=(\"sentiment\",)        \n",
    "    )\n",
    "    ...\n",
    "```"
   ]
  },
  {
   "cell_type": "markdown",
   "id": "c6f3a79f",
   "metadata": {
    "slideshow": {
     "slide_type": "subslide"
    }
   },
   "source": [
    "Metriken aus Header auslesen\n",
    "\n",
    "```python\n",
    "    ...\n",
    "    def instrumentation(info) -> None:\n",
    "        if info.modified_handler == \"/predict\":\n",
    "            model_score = info.response.headers.get(\"X-model-score\")\n",
    "            model_sentiment = info.response.headers.get(\"X-model-sentiment\")\n",
    "            if model_score:\n",
    "                SCORE.observe(float(model_score))\n",
    "                SENTIMENT.labels(model_sentiment).inc()\n",
    "\n",
    "    return instrumentation\n",
    "```"
   ]
  },
  {
   "cell_type": "markdown",
   "id": "68071437",
   "metadata": {
    "slideshow": {
     "slide_type": "subslide"
    }
   },
   "source": [
    "Metriken an `app` beobachten:\n",
    "```python\n",
    "from prometheus_fastapi_instrumentator import Instrumentator\n",
    "\n",
    "instrumentator = Instrumentator()\n",
    "instrumentator.add(model_output(metric_namespace=\"mlops\", metric_subsystem=\"model\"))\n",
    "\n",
    "# Prometheus Instrumentator verknüpfen\n",
    "instrumentator.instrument(app).expose(app)\n",
    "```"
   ]
  },
  {
   "cell_type": "markdown",
   "id": "25a3ecda",
   "metadata": {
    "slideshow": {
     "slide_type": "slide"
    }
   },
   "source": [
    "# Monitoring\n",
    "\n",
    "[Model API](http://localhost:8080/docs)\n",
    "\n",
    "[Metrics Endpoint](http://localhost:8080/metrics)\n",
    "\n",
    "[Grafana](http://localhost:3000)"
   ]
  },
  {
   "cell_type": "markdown",
   "id": "b9881d1b",
   "metadata": {
    "slideshow": {
     "slide_type": "subslide"
    }
   },
   "source": [
    "## 500 Aufrufe\n",
    "\n",
    "#### Daten laden"
   ]
  },
  {
   "cell_type": "code",
   "execution_count": null,
   "id": "74b3d0e4",
   "metadata": {
    "slideshow": {
     "slide_type": "fragment"
    }
   },
   "outputs": [],
   "source": [
    "import pandas as pd\n",
    "data_df = pd.read_csv(\"data/raw/transport-short.csv\", header=None, nrows=1000, names=['id', 'kind', 'title', 'link_id', 'parent_id', 'ups', 'downs', 'score',\n",
    "       'author', 'num_comments', 'created_utc', 'permalink', 'url', 'text',\n",
    "       'level', 'top_parent'])\n",
    "data_df.head(2)"
   ]
  },
  {
   "cell_type": "markdown",
   "id": "de2b8bd4",
   "metadata": {
    "slideshow": {
     "slide_type": "subslide"
    }
   },
   "source": [
    "### API mit 500 Samples aufrufen"
   ]
  },
  {
   "cell_type": "code",
   "execution_count": null,
   "id": "909bb34e",
   "metadata": {
    "slideshow": {
     "slide_type": "fragment"
    }
   },
   "outputs": [],
   "source": [
    "for idx, row in data_df.sample(500).iterrows():\n",
    "    if not pd.isna(row[\"text\"]) and row[\"text\"] not in [\"[deleted]\", \"[removed]\"]:\n",
    "        sentiment = predict_post.sync(client=client, json_body=Input(sentence=row[\"text\"]))\n",
    "        data_df.loc[idx, \"sentiment\"] = sentiment.label"
   ]
  },
  {
   "cell_type": "markdown",
   "id": "96c3ecf0",
   "metadata": {
    "slideshow": {
     "slide_type": "fragment"
    }
   },
   "source": [
    "Ergebnisse"
   ]
  },
  {
   "cell_type": "code",
   "execution_count": null,
   "id": "449c5cf8",
   "metadata": {
    "lines_to_next_cell": 2,
    "slideshow": {
     "slide_type": "-"
    }
   },
   "outputs": [],
   "source": [
    "with pd.option_context(\"display.max_colwidth\", None):\n",
    "    display(data_df[pd.notna(data_df[\"sentiment\"])][[\"text\", \"sentiment\"]].head())"
   ]
  },
  {
   "cell_type": "markdown",
   "id": "c69e32ed",
   "metadata": {
    "slideshow": {
     "slide_type": "slide"
    }
   },
   "source": [
    "# [Dashboard](http://localhost:3000/d/PGUZYQznk/model-score?orgId=1&refresh=5s)\n",
    "\n",
    "![dashboard showing distriubtions of models scores, outlier scores, labels and drifts over time](images/dashboard.png)\n",
    "\n"
   ]
  },
  {
   "cell_type": "markdown",
   "id": "790e1bdb",
   "metadata": {
    "slideshow": {
     "slide_type": "subslide"
    }
   },
   "source": [
    "## Was kann man messen?\n",
    "\n",
    "* Score Verteilung\n",
    "   * Frühwarnindikator für Probleme\n",
    "   * Leichter zu messen als Modellgüte (\"Was ist das korrekte Sentiment?\")\n",
    "* Grundlegende Aufrufstatistiken\n",
    "   * Wird das Modell ggf. anders verwendet?\n",
    "   \n",
    "Komplexer, aber ggf. hilfreich:\n",
    "* Drift\n",
    "   * Seperates Modell notwendig (\"Drift Detector\")\n",
    "   * z.B. Themenschwerpunkte verschieben sich im Vergleich zum Trainingsdatensatz stark\n",
    "* Outlier Score\n",
    "   * Separate Modelle, die prüfen, ob Daten zu Trainingsdaten passen\n",
    "   * z.B. Anteil nicht-englischer Posts steigt"
   ]
  }
 ],
 "metadata": {
  "jupytext": {
   "encoding": "# -*- coding: utf-8 -*-",
   "formats": "ipynb,py:percent"
  },
  "kernelspec": {
   "display_name": "Python [conda env:mlops]",
   "language": "python",
   "name": "conda-env-mlops-py"
  },
  "language_info": {
   "codemirror_mode": {
    "name": "ipython",
    "version": 3
   },
   "file_extension": ".py",
   "mimetype": "text/x-python",
   "name": "python",
   "nbconvert_exporter": "python",
   "pygments_lexer": "ipython3",
   "version": "3.8.13"
  }
 },
 "nbformat": 4,
 "nbformat_minor": 5
}
