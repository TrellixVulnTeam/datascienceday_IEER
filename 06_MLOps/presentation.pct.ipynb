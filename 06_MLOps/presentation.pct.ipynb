{
 "cells": [
  {
   "cell_type": "markdown",
   "id": "20c8bb69",
   "metadata": {
    "slideshow": {
     "slide_type": "slide"
    }
   },
   "source": [
    "# MLOps\n",
    "\n",
    "![MLOps](images/MLOps.jpg)"
   ]
  },
  {
   "cell_type": "markdown",
   "id": "6dbeb931",
   "metadata": {
    "slideshow": {
     "slide_type": "slide"
    }
   },
   "source": [
    "![hidden technical debt paper](images/hidden_technical_debt_2015.jpg)"
   ]
  },
  {
   "cell_type": "markdown",
   "id": "5f57407b",
   "metadata": {
    "slideshow": {
     "slide_type": "subslide"
    }
   },
   "source": [
    "Heute im Fokus\n",
    "* __Reproduzierbarkeit__: \n",
    "    * Versionierung von Daten und Code\n",
    "* __Bereitstellung__: \n",
    "    * Modell API\n",
    "* __Monitoring__:\n",
    "    * Überwachung des Verhaltens des Modells in Produktion"
   ]
  },
  {
   "cell_type": "markdown",
   "id": "00a67013",
   "metadata": {
    "slideshow": {
     "slide_type": "slide"
    }
   },
   "source": [
    "# Code\n",
    "\n",
    "* GitHub: https://github.com/datanizing/datascienceday/\n",
    "* Verzeichnis: `06_MLOps`"
   ]
  },
  {
   "cell_type": "markdown",
   "id": "ea314359",
   "metadata": {
    "slideshow": {
     "slide_type": "slide"
    }
   },
   "source": [
    "# Modell aus \"Sprachmodelle und Sentiment-Analyse\" (Oliver Zeigermann)\n",
    "![Architektur Überblick](images/Architecture_Python.png)"
   ]
  },
  {
   "cell_type": "markdown",
   "id": "0aa8654c",
   "metadata": {
    "slideshow": {
     "slide_type": "slide"
    }
   },
   "source": [
    "# Reproduzierbarkeit mit DVC\n",
    "![Architektur Überblick](images/Architecture_Minio.png)"
   ]
  },
  {
   "cell_type": "markdown",
   "id": "d64b60c2",
   "metadata": {
    "slideshow": {
     "slide_type": "subslide"
    }
   },
   "source": [
    "## [DVC](https://dvc.org/)\n",
    "\n",
    "![DVC_project_versions](https://dvc.org/static/39d86590fa8ead1cd1247c883a8cf2c0/fa73e/project-versions.webp)"
   ]
  },
  {
   "cell_type": "markdown",
   "id": "dddd08ff",
   "metadata": {
    "slideshow": {
     "slide_type": "subslide"
    }
   },
   "source": [
    "## DVC Pipelines\n",
    "![DVC Pipeline Example](https://dagshub.com/docs/tutorial/assets/process_and_train_repo.png)\n",
    "Quelle: https://dagshub.com/"
   ]
  },
  {
   "cell_type": "markdown",
   "id": "8ceef7f7",
   "metadata": {
    "slideshow": {
     "slide_type": "subslide"
    }
   },
   "source": [
    "## DVC Pipelines\n",
    "\n",
    "#### Daten laden\n",
    "\n",
    "```\n",
    "python load_data.py\n",
    "```"
   ]
  },
  {
   "cell_type": "code",
   "execution_count": 18,
   "id": "fd3b9daa",
   "metadata": {
    "lines_to_next_cell": 2,
    "slideshow": {
     "slide_type": "fragment"
    }
   },
   "outputs": [
    {
     "name": "stdout",
     "output_type": "stream",
     "text": [
      "Stage 'load_data' is cached - skipping run, checking out outputs      core\u001b[39m>\n",
      "Modifying stage 'load_data' in 'dvc.yaml'                                       \n",
      "\n",
      "To track the changes with git, run:\n",
      "\n",
      "    git add dvc.yaml\n",
      "\n",
      "To enable auto staging, run:\n",
      "\n",
      "\tdvc config core.autostage true\n",
      "\u001b[0m"
     ]
    }
   ],
   "source": [
    "!dvc run -n load_data --force -o data/raw/transport-short.csv -d load_data.py python load_data.py"
   ]
  },
  {
   "cell_type": "markdown",
   "id": "08fa7ccf",
   "metadata": {
    "slideshow": {
     "slide_type": "subslide"
    }
   },
   "source": [
    "## DVC Pipelines\n",
    "\n",
    "#### Model trainieren\n",
    "\n",
    "```\n",
    "python train.py\n",
    "```"
   ]
  },
  {
   "cell_type": "code",
   "execution_count": 19,
   "id": "ffe921e2",
   "metadata": {},
   "outputs": [
    {
     "name": "stdout",
     "output_type": "stream",
     "text": [
      "Stage 'train' is cached - skipping run, checking out outputs          core\u001b[39m>\n",
      "Modifying stage 'train' in 'dvc.yaml'                                           \n",
      "\n",
      "To track the changes with git, run:\n",
      "\n",
      "    git add dvc.yaml\n",
      "\n",
      "To enable auto staging, run:\n",
      "\n",
      "\tdvc config core.autostage true\n",
      "\u001b[0m"
     ]
    }
   ],
   "source": [
    "!dvc run -n train --force -d data/raw/transport-short.csv -d train.py -o models/model/ python train.py"
   ]
  },
  {
   "cell_type": "markdown",
   "id": "12ea5bb6",
   "metadata": {
    "slideshow": {
     "slide_type": "subslide"
    }
   },
   "source": [
    "## DVC Pipelines"
   ]
  },
  {
   "cell_type": "code",
   "execution_count": 20,
   "id": "a9b6fc91",
   "metadata": {
    "slideshow": {
     "slide_type": "-"
    }
   },
   "outputs": [
    {
     "name": "stdout",
     "output_type": "stream",
     "text": [
      "+-----------+  \r\n",
      "| load_data |  \r\n",
      "+-----------+  \r\n",
      "      *        \r\n",
      "      *        \r\n",
      "      *        \r\n",
      "  +-------+    \r\n",
      "  | train |    \r\n",
      "  +-------+    \r\n"
     ]
    }
   ],
   "source": [
    "!dvc dag --full | cat"
   ]
  },
  {
   "cell_type": "code",
   "execution_count": 21,
   "id": "d88de559",
   "metadata": {
    "slideshow": {
     "slide_type": "-"
    }
   },
   "outputs": [
    {
     "name": "stdout",
     "output_type": "stream",
     "text": [
      "+------------------------------+ \r\n",
      "| data/raw/transport-short.csv | \r\n",
      "+------------------------------+ \r\n",
      "                *                \r\n",
      "                *                \r\n",
      "                *                \r\n",
      "        +--------------+         \r\n",
      "        | models/model |         \r\n",
      "        +--------------+         \r\n"
     ]
    }
   ],
   "source": [
    "!dvc dag --out | cat"
   ]
  },
  {
   "cell_type": "markdown",
   "id": "5b0d1abb",
   "metadata": {
    "slideshow": {
     "slide_type": "subslide"
    }
   },
   "source": [
    "## Pipelines\n",
    "Mit DVC lassen sich Pipelines definieren um die komplette Pipeline von den Rohdaten bis zum Modell reprouzierbar zu machen.\n",
    "#### `dvc.yaml`"
   ]
  },
  {
   "cell_type": "markdown",
   "id": "941e0aa7",
   "metadata": {},
   "source": [
    "```yaml\n",
    "stages:\n",
    "  train:\n",
    "    cmd: python train.py\n",
    "    deps:\n",
    "    - data/raw/transport-short.csv\n",
    "    outs:\n",
    "    - models/model/\n",
    "\n",
    "```"
   ]
  },
  {
   "cell_type": "markdown",
   "id": "77ff8b6d",
   "metadata": {
    "slideshow": {
     "slide_type": "subslide"
    }
   },
   "source": [
    "Reproduzieren der Schritte mit"
   ]
  },
  {
   "cell_type": "code",
   "execution_count": 22,
   "id": "8a70a0f2",
   "metadata": {},
   "outputs": [
    {
     "name": "stdout",
     "output_type": "stream",
     "text": [
      "Stage 'load_data' didn't change, skipping                             core\u001b[39m>\n",
      "Stage 'train' didn't change, skipping\n",
      "Data and pipelines are up to date.\n",
      "\u001b[0m"
     ]
    }
   ],
   "source": [
    "!dvc repro"
   ]
  },
  {
   "cell_type": "markdown",
   "id": "9303abfc",
   "metadata": {
    "slideshow": {
     "slide_type": "subslide"
    }
   },
   "source": [
    "## Datenstände\n",
    "\n",
    "Datenstände werden in `dvc.lock` über Hashes abgebildet.\n",
    "```yaml\n",
    "stages:\n",
    "  load_data:\n",
    "    cmd: python load_data.py\n",
    "    deps:\n",
    "    - path: load_data.py\n",
    "      md5: ddeb3c7968c47788fb055752566e725d\n",
    "      size: 153\n",
    "    outs:\n",
    "    - path: data/raw/transport-short.csv\n",
    "      md5: 3057d4f316405b0a282328d2f9ee5748\n",
    "      size: 551260620\n",
    "  train:\n",
    "     ...\n",
    "```"
   ]
  },
  {
   "cell_type": "markdown",
   "id": "2c3ab30c",
   "metadata": {
    "slideshow": {
     "slide_type": "subslide"
    }
   },
   "source": [
    "## DVC Data\n",
    "\n",
    "Folgende Datenablagen werden unterstützt:\n",
    "* Amazon S3 (und kompatible, z.B. Minio)\n",
    "* Azure Blob Storage\n",
    "* Google Drive\n",
    "* Google Cloud Storage\n",
    "* Aliyon OSS\n",
    "* SSH\n",
    "* HDFS\n",
    "* WebHDFS\n",
    "* HTTP\n",
    "* WebDAV\n",
    "* local remote (z.B. Netzlaufwerke)"
   ]
  },
  {
   "cell_type": "markdown",
   "id": "fbf3daee",
   "metadata": {
    "slideshow": {
     "slide_type": "subslide"
    }
   },
   "source": [
    "## DVC Remote\n",
    "\n",
    "Hier, [DVC Remote with Minio](http://localhost:9000/minio/dvcrepo/)\n",
    "\n",
    "* ACCESS KEY: `minio-access-key`\n",
    "* SECRET KEY: `minio-secret-key`"
   ]
  },
  {
   "cell_type": "code",
   "execution_count": 23,
   "id": "54b54d6e",
   "metadata": {
    "slideshow": {
     "slide_type": "fragment"
    }
   },
   "outputs": [
    {
     "name": "stdout",
     "output_type": "stream",
     "text": [
      "Everything is up to date.                                                       \n",
      "\u001b[0m"
     ]
    }
   ],
   "source": [
    "!dvc push"
   ]
  },
  {
   "cell_type": "code",
   "execution_count": 24,
   "id": "1953f3a2",
   "metadata": {
    "slideshow": {
     "slide_type": "fragment"
    }
   },
   "outputs": [
    {
     "name": "stdout",
     "output_type": "stream",
     "text": [
      "Everything is up to date.                                                       \n",
      "\u001b[0m"
     ]
    }
   ],
   "source": [
    "!dvc pull"
   ]
  },
  {
   "cell_type": "markdown",
   "id": "ab79db13",
   "metadata": {
    "slideshow": {
     "slide_type": "slide"
    }
   },
   "source": [
    "# Docker Image mit API\n",
    "![Architektur Überblick](images/Architecture_Docker.png)"
   ]
  },
  {
   "cell_type": "markdown",
   "id": "3028a45c",
   "metadata": {
    "slideshow": {
     "slide_type": "subslide"
    }
   },
   "source": [
    "# Sentiment API\n",
    "\n",
    "Mittels [FastAPI](https://fastapi.tiangolo.com/) wird eine API für das Sentiment Model bereitgestellt."
   ]
  },
  {
   "cell_type": "markdown",
   "id": "fdd756ef",
   "metadata": {
    "slideshow": {
     "slide_type": "subslide"
    }
   },
   "source": [
    "### Datenmodell für Ein- und Ausgabe\n",
    "\n",
    "##### `app.py`\n",
    "```python\n",
    "from pydantic import BaseModel, Field\n",
    "\n",
    "# Datenmodell der Eingabe\n",
    "class Input(BaseModel):\n",
    "    sentence: str = Field(example=\"Das ist ein toller Satz.\")\n",
    "\n",
    "# Datenmodell der Ausgabe\n",
    "class Sentiment(BaseModel):\n",
    "    label: str = Field(description=\"Sentiment\", example=\"NEGATIVE\")\n",
    "    score: float = Field(description=\"Score\", example=0.9526780247688293)\n",
    "```"
   ]
  },
  {
   "cell_type": "markdown",
   "id": "97db0ca1",
   "metadata": {
    "slideshow": {
     "slide_type": "subslide"
    }
   },
   "source": [
    "### API Endpunkt\n",
    "\n",
    "##### `app.py`\n",
    "```python\n",
    "from fastapi import FastAPI, Response\n",
    "\n",
    "# Erzeugen der FastAPI Anwendung\n",
    "app = FastAPI(\n",
    "    title=\"Sentiment Model API\",\n",
    "    description=\"Sentiment Model API\",\n",
    "    version=\"0.1\",)\n",
    "```\n"
   ]
  },
  {
   "cell_type": "markdown",
   "id": "8afd2d5e",
   "metadata": {
    "slideshow": {
     "slide_type": "subslide"
    }
   },
   "source": [
    "###### `app.py`\n",
    "```python\n",
    "# Modell laden\n",
    "sentiment_classifier = pipeline(\"sentiment-analysis\", \"models/model\")\n",
    "\n",
    "@app.post('/predict', response_model=Sentiment, operation_id=\"predict_post\")\n",
    "async def predict(response: Response, input: Input):\n",
    "        pred=sentiment_classifier(input.sentence)[0]\n",
    "        sentiment = Sentiment.parse_obj(pred)\n",
    "        return sentiment\n",
    "```"
   ]
  },
  {
   "cell_type": "markdown",
   "id": "926be37f",
   "metadata": {
    "slideshow": {
     "slide_type": "subslide"
    }
   },
   "source": [
    "## API Testen\n",
    "\n",
    "[uvicorn Webserver](https://www.uvicorn.org/)\n",
    "\n",
    "##### `app.py`\n",
    "```python\n",
    "if __name__ == \"__main__\":\n",
    "    import uvicorn\n",
    "    uvicorn.run(app, host=\"127.0.0.1\", port=8080)\n",
    "```\n",
    "\n",
    "Webserver starten\n",
    "```\n",
    "python app.py\n",
    "```"
   ]
  },
  {
   "cell_type": "markdown",
   "id": "bd0b7759",
   "metadata": {
    "slideshow": {
     "slide_type": "subslide"
    }
   },
   "source": [
    "## Schnittstelle\n",
    "\n",
    "FastAPI stellt eine Dokumentation der Schnittstelle unter [/docs](http://localhost:8080/docs) zur Verfügung."
   ]
  },
  {
   "cell_type": "markdown",
   "id": "9d491c0a",
   "metadata": {
    "slideshow": {
     "slide_type": "subslide"
    }
   },
   "source": [
    "### Client Code erzeugen\n",
    "Der Client wird mittles [`openapi-python-client` Generator](https://github.com/openapi-generators/openapi-python-client) z.B. wie folgt erzeugt.\n",
    "```\n",
    "openapi-python-client generate --url http://127.0.0.1/openapi.json\n",
    "```"
   ]
  },
  {
   "cell_type": "code",
   "execution_count": 26,
   "id": "46b8ad3c",
   "metadata": {},
   "outputs": [
    {
     "name": "stdout",
     "output_type": "stream",
     "text": [
      "Generating sentiment-model-api-client\r\n",
      "\u001b[91m\u001b[1m\u001b[4mError(s) encountered while generating, client was not created\u001b[0m\r\n",
      "\r\n",
      "\u001b[31m\u001b[1mUnable to generate the client\u001b[0m\r\n",
      "\r\n",
      "\u001b[31mDirectory already exists. Delete it or use the update command.\u001b[0m\r\n",
      "\r\n",
      "\r\n",
      "\u001b[34mIf you believe this was a mistake or this tool is missing a feature you need, please open an issue at \u001b[94mhttps://github.com/openapi-generators/openapi-python-client/issues/new/choose\u001b[0m\u001b[0m\r\n"
     ]
    }
   ],
   "source": [
    "!openapi-python-client generate --url http://127.0.0.1:8080/openapi.json"
   ]
  },
  {
   "cell_type": "markdown",
   "id": "9eb2ed5a",
   "metadata": {},
   "source": [
    "[Andere Client-Generatoren](https://openapi-generator.tech/docs/generators/#client-generators)"
   ]
  },
  {
   "cell_type": "markdown",
   "id": "567a480a",
   "metadata": {
    "slideshow": {
     "slide_type": "subslide"
    }
   },
   "source": [
    "## API aufrufen"
   ]
  },
  {
   "cell_type": "code",
   "execution_count": 27,
   "id": "fa90d74e",
   "metadata": {
    "slideshow": {
     "slide_type": "fragment"
    }
   },
   "outputs": [
    {
     "data": {
      "text/plain": [
       "Sentiment(label='POSITIVE', score=0.9907467365264893, additional_properties={})"
      ]
     },
     "execution_count": 27,
     "metadata": {},
     "output_type": "execute_result"
    }
   ],
   "source": [
    "import sys\n",
    "sys.path.append(\"./sentiment-model-api-client\")\n",
    "from sentiment_model_api_client.client import Client\n",
    "from sentiment_model_api_client.models import Input\n",
    "from sentiment_model_api_client.api.default import predict_post\n",
    "\n",
    "client = Client(base_url=\"http://localhost:8080\", timeout=30)\n",
    "\n",
    "predict_post.sync(client=client, \n",
    "                  json_body=Input(sentence=\n",
    "                                  \"I wonder how close a drone has to get to private property before someone \"\n",
    "                                  \"can shoot it down, because that will definitely happen.\"))"
   ]
  },
  {
   "cell_type": "markdown",
   "id": "6ff4086d",
   "metadata": {
    "slideshow": {
     "slide_type": "subslide"
    }
   },
   "source": [
    "## Docker Images bauen\n",
    "\n",
    "##### `Dockerfile` (Auszug)\n",
    "```Dockerfile\n",
    "FROM docker.io/bitnami/python:3.8.13\n",
    "...\n",
    "RUN pip install -r requirements.txt --no-cache-dir \n",
    "\n",
    "...\n",
    "RUN dvc config core.no_scm true && \\\n",
    "    dvc pull models/model/\n",
    "\n",
    "CMD uvicorn app:app --host=0.0.0.0 --port=8080\n",
    "```"
   ]
  },
  {
   "cell_type": "code",
   "execution_count": 28,
   "id": "e2222e31",
   "metadata": {
    "slideshow": {
     "slide_type": "subslide"
    }
   },
   "outputs": [
    {
     "name": "stdout",
     "output_type": "stream",
     "text": [
      "Sending build context to Docker daemon  1.642GB\n",
      "Step 1/15 : FROM docker.io/bitnami/python:3.8.13\n",
      " ---> ce5e98c6424c\n",
      "Step 2/15 : EXPOSE 8080\n",
      " ---> Using cache\n",
      " ---> 31b3be169fdb\n",
      "Step 3/15 : USER root\n",
      " ---> Using cache\n",
      " ---> e6e5f96b6374\n",
      "Step 4/15 : WORKDIR /app\n",
      " ---> Using cache\n",
      " ---> 20b4ea5fe3df\n",
      "Step 5/15 : COPY requirements.txt .\n",
      " ---> Using cache\n",
      " ---> a248a5664d55\n",
      "Step 6/15 : RUN pip install -r requirements.txt --no-cache-dir\n",
      " ---> Using cache\n",
      " ---> 8bd239d599da\n",
      "Step 7/15 : COPY dvc.yaml dvc.yaml\n",
      " ---> Using cache\n",
      " ---> a680bbb27aa6\n",
      "Step 8/15 : COPY dvc.lock dvc.lock\n",
      " ---> Using cache\n",
      " ---> 818547c2e2e8\n",
      "Step 9/15 : COPY .dvc/config .dvc/config\n",
      " ---> Using cache\n",
      " ---> aea27fb4bb7a\n",
      "Step 10/15 : RUN dvc config core.no_scm true &&     dvc pull models/model/\n",
      " ---> Using cache\n",
      " ---> 43b9fecf376d\n",
      "Step 11/15 : COPY app.py .\n",
      " ---> Using cache\n",
      " ---> 8425caeed581\n",
      "Step 12/15 : RUN chgrp -R 0 . &&     chmod -R g=u . &&     chmod -R g+rw . &&     chmod a+x app.py\n",
      " ---> Using cache\n",
      " ---> 990b22daf993\n",
      "Step 13/15 : USER 1001\n",
      " ---> Using cache\n",
      " ---> 99cb18011eb2\n",
      "Step 14/15 : WORKDIR /app\n",
      " ---> Using cache\n",
      " ---> 5693d3f3cbdb\n",
      "Step 15/15 : CMD uvicorn app:app --host=0.0.0.0 --port=8080\n",
      " ---> Using cache\n",
      " ---> daf28130c8e3\n",
      "Successfully built daf28130c8e3\n",
      "Successfully tagged modelapi:latest\n"
     ]
    }
   ],
   "source": [
    "!docker build -t modelapi --network=\"host\" ."
   ]
  },
  {
   "cell_type": "markdown",
   "id": "359f7708",
   "metadata": {
    "slideshow": {
     "slide_type": "slide"
    }
   },
   "source": [
    "# Orchestrierung mit Docker\n",
    "![Architektur Überblick](images/Architecture_DockerCompose.png)"
   ]
  },
  {
   "cell_type": "markdown",
   "id": "6d0298c6",
   "metadata": {
    "slideshow": {
     "slide_type": "subslide"
    }
   },
   "source": [
    "## Docker-Compose Datei\n",
    "```yaml\n",
    "version: \"2\"\n",
    "services:\n",
    "    modelapi:\n",
    "        image: modelapi\n",
    "        expose:\n",
    "        - 8080\n",
    "        ports:\n",
    "        - 8080:8080\n",
    "\n",
    "    minio:\n",
    "        image: docker.io/bitnami/minio:2021.6.17\n",
    "        ...\n",
    "        \n",
    "    prometheus:\n",
    "        image: docker.io/bitnami/prometheus:2\n",
    "        ...\n",
    "\n",
    "    grafana:\n",
    "        image: docker.io/bitnami/grafana:7\n",
    "        ...\n",
    "```\n"
   ]
  },
  {
   "cell_type": "markdown",
   "id": "6436b54e",
   "metadata": {
    "slideshow": {
     "slide_type": "-"
    }
   },
   "source": [
    "Starten mit\n",
    "\n",
    "```\n",
    "docker-compose up\n",
    "```"
   ]
  },
  {
   "cell_type": "markdown",
   "id": "260b713e",
   "metadata": {
    "slideshow": {
     "slide_type": "slide"
    }
   },
   "source": [
    "# Monitoring mit Prometheus/Grafana\n",
    "![Architektur Überblick](images/Architecture_Grafana.png)"
   ]
  },
  {
   "cell_type": "markdown",
   "id": "8d735189",
   "metadata": {
    "slideshow": {
     "slide_type": "slide"
    }
   },
   "source": [
    "# Monitoring\n",
    "\n",
    "Modelausgaben über Header mitgeben, damit der Prometheus Client diese abfangen kann.\n",
    "\n",
    "#### `app.py`\n",
    "```python\n",
    "# Endpunkt für Prediction\n",
    "@app.post('/predict', response_model=Sentiment, operation_id=\"predict_post\")\n",
    "async def predict(response: Response, input: Input):\n",
    "    pred = sentiment_classifier(input.sentence)[0]\n",
    "    sentiment = Sentiment(**pred)\n",
    "\n",
    "    # Header Monitoring\n",
    "    response.headers[\"X-model-score\"] = str(sentiment.score)\n",
    "    response.headers[\"X-model-sentiment\"] = str(sentiment.label)\n",
    "\n",
    "    return sentiment\n"
   ]
  },
  {
   "cell_type": "markdown",
   "id": "8a1d5e88",
   "metadata": {
    "slideshow": {
     "slide_type": "subslide"
    }
   },
   "source": [
    "Metriken definieren\n",
    "\n",
    "```python\n",
    "from prometheus_client import Histogram, Counter\n",
    "\n",
    "def model_output(metric_namespace: str = \"\", metric_subsystem: str = \"\"):\n",
    "    SCORE = Histogram(\n",
    "        \"model_score\",\n",
    "        \"Predicted score of model\",\n",
    "        buckets=(0, .1, .2, .3, .4, .5, .6, .7, .8, .9),\n",
    "        namespace=\"mlops\",\n",
    "        subsystem=\"model\",\n",
    "    )\n",
    "    ...\n",
    "```"
   ]
  },
  {
   "cell_type": "markdown",
   "id": "3143d4b2",
   "metadata": {
    "slideshow": {
     "slide_type": "subslide"
    }
   },
   "source": [
    "```python\n",
    "    ...\n",
    "    SENTIMENT = Counter(\n",
    "        \"sentiment\",\n",
    "        \"Predicted sentiment\",\n",
    "        namespace=\"mlops\",\n",
    "        subsystem=\"model\",\n",
    "        labelnames=(\"sentiment\",)        \n",
    "    )\n",
    "    ...\n",
    "```"
   ]
  },
  {
   "cell_type": "markdown",
   "id": "c6f3a79f",
   "metadata": {
    "slideshow": {
     "slide_type": "subslide"
    }
   },
   "source": [
    "Metriken aus Header auslesen\n",
    "\n",
    "```python\n",
    "    ...\n",
    "    def instrumentation(info) -> None:\n",
    "        if info.modified_handler == \"/predict\":\n",
    "            model_score = info.response.headers.get(\"X-model-score\")\n",
    "            model_sentiment = info.response.headers.get(\"X-model-sentiment\")\n",
    "            if model_score:\n",
    "                SCORE.observe(float(model_score))\n",
    "                SENTIMENT.labels(model_sentiment).inc()\n",
    "\n",
    "    return instrumentation\n",
    "```"
   ]
  },
  {
   "cell_type": "markdown",
   "id": "68071437",
   "metadata": {
    "slideshow": {
     "slide_type": "subslide"
    }
   },
   "source": [
    "Metriken an `app` beobachten:\n",
    "```python\n",
    "from prometheus_fastapi_instrumentator import Instrumentator\n",
    "\n",
    "instrumentator = Instrumentator()\n",
    "instrumentator.add(model_output())\n",
    "\n",
    "# Prometheus Instrumentator verknüpfen\n",
    "instrumentator.instrument(app).expose(app)\n",
    "```"
   ]
  },
  {
   "cell_type": "markdown",
   "id": "25a3ecda",
   "metadata": {
    "slideshow": {
     "slide_type": "slide"
    }
   },
   "source": [
    "# Monitoring\n",
    "\n",
    "[Model API](http://localhost:8080/docs)\n",
    "\n",
    "[Metrics Endpoint](http://localhost:8080/metrics)\n",
    "\n",
    "[Prometheus](http://localhost:9090/graph?g0.expr=mlops_model_model_score_bucket%20&g0.tab=1&g0.stacked=0&g0.show_exemplars=0&g0.range_input=1h)\n",
    "\n",
    "[Grafana](http://localhost:3000)"
   ]
  },
  {
   "cell_type": "markdown",
   "id": "b9881d1b",
   "metadata": {
    "slideshow": {
     "slide_type": "subslide"
    }
   },
   "source": [
    "## 500 Aufrufe\n",
    "\n",
    "#### Daten laden"
   ]
  },
  {
   "cell_type": "code",
   "execution_count": null,
   "id": "74b3d0e4",
   "metadata": {
    "slideshow": {
     "slide_type": "fragment"
    }
   },
   "outputs": [],
   "source": [
    "import pandas as pd\n",
    "data_df = pd.read_csv(\"data/raw/transport-short.csv\", header=None, nrows=1000, names=['id', 'kind', 'title', 'link_id', 'parent_id', 'ups', 'downs', 'score',\n",
    "       'author', 'num_comments', 'created_utc', 'permalink', 'url', 'text',\n",
    "       'level', 'top_parent'])\n",
    "data_df.head(2)"
   ]
  },
  {
   "cell_type": "markdown",
   "id": "de2b8bd4",
   "metadata": {
    "slideshow": {
     "slide_type": "subslide"
    }
   },
   "source": [
    "### API mit 500 Samples aufrufen"
   ]
  },
  {
   "cell_type": "code",
   "execution_count": null,
   "id": "909bb34e",
   "metadata": {
    "slideshow": {
     "slide_type": "fragment"
    }
   },
   "outputs": [],
   "source": [
    "for idx, row in data_df.sample(500).iterrows():\n",
    "    if not pd.isna(row[\"text\"]) and row[\"text\"] not in [\"[deleted]\", \"[removed]\"]:\n",
    "        sentiment = predict_post.sync(client=client, json_body=Input(sentence=row[\"text\"]))\n",
    "        data_df.loc[idx, \"sentiment\"] = sentiment.label"
   ]
  },
  {
   "cell_type": "markdown",
   "id": "96c3ecf0",
   "metadata": {
    "slideshow": {
     "slide_type": "fragment"
    }
   },
   "source": [
    "Ergebnisse"
   ]
  },
  {
   "cell_type": "code",
   "execution_count": null,
   "id": "449c5cf8",
   "metadata": {
    "lines_to_next_cell": 2,
    "slideshow": {
     "slide_type": "-"
    }
   },
   "outputs": [],
   "source": [
    "with pd.option_context(\"display.max_colwidth\", None):\n",
    "    display(data_df[pd.notna(data_df[\"sentiment\"])][[\"text\", \"sentiment\"]].head())"
   ]
  },
  {
   "cell_type": "markdown",
   "id": "c69e32ed",
   "metadata": {
    "slideshow": {
     "slide_type": "slide"
    }
   },
   "source": [
    "# [Dashboard](http://localhost:3000/d/PGUZYQznk/model-score?orgId=1&refresh=5s)\n",
    "\n",
    "![dashboard showing distriubtions of models scores, outlier scores, labels and drifts over time](images/dashboard.png)\n",
    "\n"
   ]
  },
  {
   "cell_type": "markdown",
   "id": "790e1bdb",
   "metadata": {
    "slideshow": {
     "slide_type": "subslide"
    }
   },
   "source": [
    "## Was kann man messen?\n",
    "\n",
    "* Score Verteilung\n",
    "   * Frühwarnindikator für Probleme\n",
    "   * Leichter zu messen als Modellgüte (\"Was ist das korrekte Sentiment?\")\n",
    "* Grundlegende Aufrufstatistiken\n",
    "   * Wird das Modell ggf. anders verwendet?\n",
    "   \n",
    "Komplexer, aber ggf. hilfreich:\n",
    "* Drift\n",
    "   * Seperates Modell notwendig (\"Drift Detector\")\n",
    "   * z.B. Themenschwerpunkte verschieben sich im Vergleich zum Trainingsdatensatz stark\n",
    "* Outlier Score\n",
    "   * Separate Modelle, die prüfen, ob Daten zu Trainingsdaten passen\n",
    "   * z.B. Anteil nicht-englischer Posts steigt"
   ]
  }
 ],
 "metadata": {
  "celltoolbar": "Slideshow",
  "jupytext": {
   "encoding": "# -*- coding: utf-8 -*-",
   "formats": "ipynb,py:percent"
  },
  "kernelspec": {
   "display_name": "Python [conda env:mlops]",
   "language": "python",
   "name": "conda-env-mlops-py"
  },
  "language_info": {
   "codemirror_mode": {
    "name": "ipython",
    "version": 3
   },
   "file_extension": ".py",
   "mimetype": "text/x-python",
   "name": "python",
   "nbconvert_exporter": "python",
   "pygments_lexer": "ipython3",
   "version": "3.8.13"
  }
 },
 "nbformat": 4,
 "nbformat_minor": 5
}
