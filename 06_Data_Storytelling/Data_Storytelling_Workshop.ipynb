{
  "nbformat": 4,
  "nbformat_minor": 0,
  "metadata": {
    "kernelspec": {
      "display_name": "Python 3",
      "language": "python",
      "name": "python3"
    },
    "language_info": {
      "codemirror_mode": {
        "name": "ipython",
        "version": 3
      },
      "file_extension": ".py",
      "mimetype": "text/x-python",
      "name": "python",
      "nbconvert_exporter": "python",
      "pygments_lexer": "ipython3",
      "version": "3.8.5"
    },
    "colab": {
      "name": "Data-Storytelling-Workshop.ipynb",
      "provenance": [],
      "collapsed_sections": [
        "qP3mUTDKeFdS",
        "lGk_NFNbkwCB",
        "jehg1ZZZwRwR",
        "_rXamqygmdkt",
        "p5ceJeYN546T"
      ]
    }
  },
  "cells": [
    {
      "cell_type": "markdown",
      "metadata": {
        "id": "v3BxZv2LaogV"
      },
      "source": [
        "# **<font size = 9 color = '#17415f'> Data Storytelling**"
      ]
    },
    {
      "cell_type": "markdown",
      "metadata": {
        "id": "0zytuffpeXB1"
      },
      "source": [
        "## **<font size = 6 color = '#17415f'>Einleitung**"
      ]
    },
    {
      "cell_type": "markdown",
      "metadata": {
        "id": "o8LCqhWZSwuH"
      },
      "source": [
        "- Das Data Stoytelling ist eine Methode zur effektiven Kommunikation von datengetriebenen Erkenntnissen.\n",
        "- Im Zentrum steht dabei eine Präsentation. \n",
        "- Grob gesprochen besteht das Data Stoytelling aus vier Aspekten: \n",
        "  - Die Bestimmung des Kontexts\n",
        "  - Das Formulieren einer Data Story\n",
        "  - Das Identifizieren der relevanten Daten\n",
        "  - Die Erzeugung der **explanativen** Grafiken"
      ]
    },
    {
      "cell_type": "markdown",
      "metadata": {
        "id": "u7doD7eQSttp"
      },
      "source": [
        "Data Storytelling kann zu jedem Zeitpunkt eines datengetriebenen Projektes Anwendung finden. Stellen wir uns folgendes Szenario vor:\n",
        "- Es muss noch entschieden werden, ob unser Projekt genehmigt wird. Wir müssen Überzeugungsarbeit leisten. \n",
        "- Dafür wollen wir in unseren Anträgen überzeugende Grafiken haben, die unsere Motivation untersteichen. \n",
        "\n"
      ]
    },
    {
      "cell_type": "markdown",
      "metadata": {
        "id": "qP3mUTDKeFdS"
      },
      "source": [
        "## **<font size = 6 color = '#17415f'>Bestimmung des Kontexts**"
      ]
    },
    {
      "cell_type": "markdown",
      "metadata": {
        "id": "1bgcwHkveUOI"
      },
      "source": [
        "- Wieviel Kontrolle habe ich bei der Präsentation?\n",
        "  - Viel Kontrolle: Interaktion mit Zuschauer:innen möglich (Bühne, Live Vortrag, Besprechung).\n",
        "    - Vorteil: Klarifizierungen live möglich. Überzeugungskraft kann nachgesteuert werden (Ton der Präsentation, Fragen, Erklärungen) \n",
        "    - Nachteil: Präsentationsfähigkeiten erforderlich. Es kann viel schief gehen. \n",
        "  - Wenig Kontrolle: Keine Interaktion mit den Zuschauer:innen möglich (Report, Dashboard, etc.).\n",
        "    - Vorteil: Keine Präsentationsfähigkeiten nötig. \n",
        "    - Nachteil: Grafiken müssen selbsterklärend sein. Detailgrad der Informationen muss genauer gesteuert werden (zu viel Info vs. zu wenig Info).\n",
        "\n",
        "- Für wen ist die Präsentation?\n",
        "  - Welche Beziehung haben wir zu den Zuschauer:innen?\n",
        "    - Bekannt vs. Unbekannt\n",
        "    - Hierachie\n",
        "  - Erwartungsmanagement:\n",
        "    - Viele Details vs auf den Punkt.\n",
        "  - Welches Ziel soll erreicht werden?\n",
        "    - Was wäre eine erfolgreiche Präsentation?\n",
        "    - Was wäre ein erfolgreiches Ergebnis?\n",
        "    - Wen genau wollen wir überzeugen?\n",
        "  - Was ist der Ton der Präsentation?\n",
        "    - Humor vs. Ernst\n",
        "    - Professionell vs. Locker\n",
        "- Unser Fall: \n",
        "  - Wenig Kontrolle -> Grafiken müssen sehr gut sein.\n",
        "  - Ziel: Wollen das Management von unseren Vorhaben überzeugen und eine Genehmigung für unser Projekt bekommen. \n",
        "    - Auf den Punkt\n",
        "    - Professionell"
      ]
    },
    {
      "cell_type": "markdown",
      "metadata": {
        "id": "lGk_NFNbkwCB"
      },
      "source": [
        "## **<font size = 6 color = '#17415f'>Formulierung der Data Story**\n"
      ]
    },
    {
      "cell_type": "markdown",
      "metadata": {
        "id": "5qSp_-Lfl1nj"
      },
      "source": [
        "- Eine Data Story wird genutzt, um datengetriebene Erkenntnisse für nicht-Expert:innen leicht zugänglich zu machen.\n",
        "- Sie besteht aus vier Teilen\n",
        "  1. Eine harmonische Ausgangssituation\n",
        "  2. Ein Konflikt, der eine Lösung erfordert\n",
        "  3. Den Prozess der Lösung\n",
        "  4. Eine Auflösung\n",
        "- In unserem Fall:\n",
        "  1. Unser Unternehmen ist erfolgreich im E-Mobility Bereich.\n",
        "  2. Der Innovationsdruck wächst schnell und stark.\n",
        "  3. Schnelle, qualitativ hochwertige Erkenntnisse müssen beschafft werden. Diskussionen auf r/Technology stellen gute Quelle dar.\n",
        "  4. Die Erkenntnisse aus r/Technology werden zukünftige Diskussion anregen und anfeuern.   "
      ]
    },
    {
      "cell_type": "markdown",
      "metadata": {
        "id": "jehg1ZZZwRwR"
      },
      "source": [
        "## **<font size = 6 color = '#17415f'>Identifikation der relevanten Daten**"
      ]
    },
    {
      "cell_type": "markdown",
      "metadata": {
        "id": "mFTkZjCiwchZ"
      },
      "source": [
        "- Welche Daten unterstützen unsere Data Story?\n",
        "- Wieviele Abstaktionsstufen sind in den Erkenntnissen vorhanden?\n",
        "  - Leicht verständlich vs. Expertenwissen\n",
        "  - Folgerungen aus komplexen Rechnungen vs. direktes Ablesen aus dem Datensatz.\n",
        "- Muss unsere Data Story angepasst werden, weil die Daten nicht gut genug sind?\n",
        "  - Iterativer Zyklus möglich.\n",
        "- Unser Fall: \n",
        "  - Das Qualitätsmaß kann als Verhältnis zwischen Anzahl der Upvotes und der Anzahl der Forumseinträge angesehen werden.\n",
        "  - Ein Wachstum des Qualitätsmaßes untermauert unsere Motivation und hat Übetzeugungskraft."
      ]
    },
    {
      "cell_type": "code",
      "metadata": {
        "colab": {
          "base_uri": "https://localhost:8080/",
          "height": 204
        },
        "id": "AaEDe9NHacQb",
        "outputId": "2b497069-43f2-43f5-9f4d-5f679af44810"
      },
      "source": [
        "import pandas as pd\n",
        "data = pd.read_csv('https://datanizing.com/data-science-day/tech-trans-final.csv.gz')\n",
        "data.drop('Unnamed: 0', axis = 1, inplace=True) #An unnecessary column was introduced by accident. Just for aesthetics.\n",
        "data.head()"
      ],
      "execution_count": null,
      "outputs": [
        {
          "output_type": "execute_result",
          "data": {
            "text/html": [
              "<div>\n",
              "<style scoped>\n",
              "    .dataframe tbody tr th:only-of-type {\n",
              "        vertical-align: middle;\n",
              "    }\n",
              "\n",
              "    .dataframe tbody tr th {\n",
              "        vertical-align: top;\n",
              "    }\n",
              "\n",
              "    .dataframe thead th {\n",
              "        text-align: right;\n",
              "    }\n",
              "</style>\n",
              "<table border=\"1\" class=\"dataframe\">\n",
              "  <thead>\n",
              "    <tr style=\"text-align: right;\">\n",
              "      <th></th>\n",
              "      <th>id</th>\n",
              "      <th>title</th>\n",
              "      <th>parent_id</th>\n",
              "      <th>ups</th>\n",
              "      <th>num_comments</th>\n",
              "      <th>text</th>\n",
              "      <th>top_parent</th>\n",
              "      <th>month</th>\n",
              "      <th>day</th>\n",
              "      <th>year</th>\n",
              "    </tr>\n",
              "  </thead>\n",
              "  <tbody>\n",
              "    <tr>\n",
              "      <th>0</th>\n",
              "      <td>t3_kxwsat</td>\n",
              "      <td>Rare car tech</td>\n",
              "      <td>NaN</td>\n",
              "      <td>1</td>\n",
              "      <td>1.0</td>\n",
              "      <td>NaN</td>\n",
              "      <td>t3_kxwsat</td>\n",
              "      <td>1</td>\n",
              "      <td>15</td>\n",
              "      <td>2021</td>\n",
              "    </tr>\n",
              "    <tr>\n",
              "      <th>1</th>\n",
              "      <td>t1_gjcnro9</td>\n",
              "      <td>NaN</td>\n",
              "      <td>t3_kxwsat</td>\n",
              "      <td>1</td>\n",
              "      <td>NaN</td>\n",
              "      <td>Unfortunately, this post has been removed. Ima...</td>\n",
              "      <td>t3_kxwsat</td>\n",
              "      <td>1</td>\n",
              "      <td>15</td>\n",
              "      <td>2021</td>\n",
              "    </tr>\n",
              "    <tr>\n",
              "      <th>2</th>\n",
              "      <td>t3_kr2ntr</td>\n",
              "      <td>The Device That Turns A Normal Bike Into An El...</td>\n",
              "      <td>NaN</td>\n",
              "      <td>1</td>\n",
              "      <td>1.0</td>\n",
              "      <td>[deleted]</td>\n",
              "      <td>t3_kr2ntr</td>\n",
              "      <td>1</td>\n",
              "      <td>5</td>\n",
              "      <td>2021</td>\n",
              "    </tr>\n",
              "    <tr>\n",
              "      <th>3</th>\n",
              "      <td>t1_gi73uir</td>\n",
              "      <td>NaN</td>\n",
              "      <td>t3_kr2ntr</td>\n",
              "      <td>1</td>\n",
              "      <td>NaN</td>\n",
              "      <td>Hello! **Please read this message very careful...</td>\n",
              "      <td>t3_kr2ntr</td>\n",
              "      <td>1</td>\n",
              "      <td>5</td>\n",
              "      <td>2021</td>\n",
              "    </tr>\n",
              "    <tr>\n",
              "      <th>4</th>\n",
              "      <td>t3_kon7vd</td>\n",
              "      <td>Why can't we build flying craft that is as qui...</td>\n",
              "      <td>NaN</td>\n",
              "      <td>1</td>\n",
              "      <td>1.0</td>\n",
              "      <td>[removed]</td>\n",
              "      <td>t3_kon7vd</td>\n",
              "      <td>1</td>\n",
              "      <td>2</td>\n",
              "      <td>2021</td>\n",
              "    </tr>\n",
              "  </tbody>\n",
              "</table>\n",
              "</div>"
            ],
            "text/plain": [
              "           id                                              title  ... day  year\n",
              "0   t3_kxwsat                                      Rare car tech  ...  15  2021\n",
              "1  t1_gjcnro9                                                NaN  ...  15  2021\n",
              "2   t3_kr2ntr  The Device That Turns A Normal Bike Into An El...  ...   5  2021\n",
              "3  t1_gi73uir                                                NaN  ...   5  2021\n",
              "4   t3_kon7vd  Why can't we build flying craft that is as qui...  ...   2  2021\n",
              "\n",
              "[5 rows x 10 columns]"
            ]
          },
          "metadata": {
            "tags": []
          },
          "execution_count": 18
        }
      ]
    },
    {
      "cell_type": "code",
      "metadata": {
        "id": "I5Hhr2XnacQe"
      },
      "source": [
        "mask_ups = data.ups >= 0 \n",
        "mask_year = data.loc[:, 'year'] >= 2011\n",
        "df = data.loc[mask_ups & mask_year, :]"
      ],
      "execution_count": null,
      "outputs": []
    },
    {
      "cell_type": "code",
      "metadata": {
        "colab": {
          "base_uri": "https://localhost:8080/"
        },
        "id": "COD7bnDGacQf",
        "outputId": "de50d195-1384-4fbb-b4da-3e5a0c9546a0"
      },
      "source": [
        "numbers = df.year.value_counts().sort_index()\n",
        "numbers"
      ],
      "execution_count": null,
      "outputs": [
        {
          "output_type": "execute_result",
          "data": {
            "text/plain": [
              "2011     28808\n",
              "2012     65116\n",
              "2013    178593\n",
              "2014    137737\n",
              "2015    139145\n",
              "2016    146250\n",
              "2017    123136\n",
              "2018    111088\n",
              "2019    102179\n",
              "2020     94600\n",
              "2021     60746\n",
              "Name: year, dtype: int64"
            ]
          },
          "metadata": {
            "tags": []
          },
          "execution_count": 30
        }
      ]
    },
    {
      "cell_type": "code",
      "metadata": {
        "colab": {
          "base_uri": "https://localhost:8080/"
        },
        "id": "s4E185YWacQg",
        "outputId": "5abe06f8-6df7-446b-efd6-fa6b5409c4b7"
      },
      "source": [
        "upvotes = df.groupby('year')['ups'].sum()\n",
        "upvotes"
      ],
      "execution_count": null,
      "outputs": [
        {
          "output_type": "execute_result",
          "data": {
            "text/plain": [
              "year\n",
              "2011     169035\n",
              "2012     460408\n",
              "2013    1781620\n",
              "2014    1695663\n",
              "2015    2252577\n",
              "2016    2879594\n",
              "2017    2906266\n",
              "2018    3107013\n",
              "2019    2383400\n",
              "2020    2678355\n",
              "2021    1406712\n",
              "Name: ups, dtype: int64"
            ]
          },
          "metadata": {
            "tags": []
          },
          "execution_count": 31
        }
      ]
    },
    {
      "cell_type": "code",
      "metadata": {
        "colab": {
          "base_uri": "https://localhost:8080/"
        },
        "id": "E40C_gUky3o6",
        "outputId": "581add91-620b-4584-98df-d00c3d876667"
      },
      "source": [
        "ratio = upvotes/numbers\n",
        "ratio"
      ],
      "execution_count": null,
      "outputs": [
        {
          "output_type": "execute_result",
          "data": {
            "text/plain": [
              "year\n",
              "2011     5.867641\n",
              "2012     7.070582\n",
              "2013     9.975867\n",
              "2014    12.310875\n",
              "2015    16.188702\n",
              "2016    19.689532\n",
              "2017    23.602082\n",
              "2018    27.968935\n",
              "2019    23.325732\n",
              "2020    28.312421\n",
              "2021    23.157278\n",
              "dtype: float64"
            ]
          },
          "metadata": {
            "tags": []
          },
          "execution_count": 32
        }
      ]
    },
    {
      "cell_type": "markdown",
      "metadata": {
        "id": "_rXamqygmdkt"
      },
      "source": [
        "## **<font size = 6 color = '#17415f'>Explanative mit Plotly ertellen**"
      ]
    },
    {
      "cell_type": "markdown",
      "metadata": {
        "id": "hAFuxHobxmrN"
      },
      "source": [
        "Mantra der explanativen Grafiken:\n",
        "- Minimalismus\n",
        "- Hervorhebung\n",
        "- Zielgruppengerecht"
      ]
    },
    {
      "cell_type": "code",
      "metadata": {
        "id": "YNm_j7jlakgb"
      },
      "source": [
        "# !pip install plotly --upgrade"
      ],
      "execution_count": null,
      "outputs": []
    },
    {
      "cell_type": "code",
      "metadata": {
        "id": "TuJgzJqbacQZ"
      },
      "source": [
        "import plotly.express as px\n",
        "import plotly.graph_objects as go"
      ],
      "execution_count": null,
      "outputs": []
    },
    {
      "cell_type": "code",
      "metadata": {
        "colab": {
          "base_uri": "https://localhost:8080/",
          "height": 542
        },
        "id": "et66wFTracQh",
        "outputId": "c3615720-358d-4dc6-8106-ef8659a8c8bc"
      },
      "source": [
        "#Define empty figure\n",
        "fig = go.Figure()\n",
        "\n",
        "#Add first graph to figure\n",
        "fig.add_trace(\n",
        "    go.Scatter(x = upvotes.index, \n",
        "               y = upvotes.values, \n",
        "               mode = 'lines', \n",
        "               line = {'color':'seagreen', \n",
        "                       'width':2\n",
        "                      },\n",
        "               hoverinfo='skip'\n",
        "               )\n",
        ")\n",
        "\n",
        "#Add second graph to figure\n",
        "fig.add_trace(\n",
        "    go.Scatter(x = numbers.index, \n",
        "               y = numbers.values, \n",
        "               mode = 'lines', \n",
        "               line = {'color':'navy', \n",
        "                       'width':2\n",
        "                      },\n",
        "               hoverinfo='skip'\n",
        "               )\n",
        ")\n",
        "\n",
        "#Add vertical lines to figure\n",
        "offset = 100000\n",
        "for i in [2012, 2016, 2020]:\n",
        "    fig.add_trace( \n",
        "        go.Scatter(x = [i]*2, y = [numbers[numbers.index == i].values[0] + offset, \n",
        "                                   upvotes[upvotes.index == i].values[0] - offset],\n",
        "                   line = {'color':'orangered', 'width':(i - 2011)/2},\n",
        "                   marker_symbol = 'line-ew',\n",
        "                   marker_size = (i - 2011)/2,\n",
        "                   marker_line_width = (i - 2011)/2,\n",
        "                   marker_line_color = 'orangered',\n",
        "                   hoverinfo='skip'\n",
        "                  )\n",
        "        )\n",
        "\n",
        "\n",
        "fig"
      ],
      "execution_count": null,
      "outputs": [
        {
          "output_type": "display_data",
          "data": {
            "text/html": [
              "<html>\n",
              "<head><meta charset=\"utf-8\" /></head>\n",
              "<body>\n",
              "    <div>\n",
              "            <script src=\"https://cdnjs.cloudflare.com/ajax/libs/mathjax/2.7.5/MathJax.js?config=TeX-AMS-MML_SVG\"></script><script type=\"text/javascript\">if (window.MathJax) {MathJax.Hub.Config({SVG: {font: \"STIX-Web\"}});}</script>\n",
              "                <script type=\"text/javascript\">window.PlotlyConfig = {MathJaxConfig: 'local'};</script>\n",
              "        <script src=\"https://cdn.plot.ly/plotly-latest.min.js\"></script>    \n",
              "            <div id=\"fba958a3-1a57-464e-895b-2158f152ea55\" class=\"plotly-graph-div\" style=\"height:525px; width:100%;\"></div>\n",
              "            <script type=\"text/javascript\">\n",
              "                \n",
              "                    window.PLOTLYENV=window.PLOTLYENV || {};\n",
              "                    \n",
              "                if (document.getElementById(\"fba958a3-1a57-464e-895b-2158f152ea55\")) {\n",
              "                    Plotly.newPlot(\n",
              "                        'fba958a3-1a57-464e-895b-2158f152ea55',\n",
              "                        [{\"hoverinfo\": \"skip\", \"line\": {\"color\": \"seagreen\", \"width\": 2}, \"mode\": \"lines\", \"type\": \"scatter\", \"x\": [2011, 2012, 2013, 2014, 2015, 2016, 2017, 2018, 2019, 2020, 2021], \"y\": [169035, 460408, 1781620, 1695663, 2252577, 2879594, 2906266, 3107013, 2383400, 2678355, 1406712]}, {\"hoverinfo\": \"skip\", \"line\": {\"color\": \"navy\", \"width\": 2}, \"mode\": \"lines\", \"type\": \"scatter\", \"x\": [2011, 2012, 2013, 2014, 2015, 2016, 2017, 2018, 2019, 2020, 2021], \"y\": [28808, 65116, 178593, 137737, 139145, 146250, 123136, 111088, 102179, 94600, 60746]}, {\"hoverinfo\": \"skip\", \"line\": {\"color\": \"orangered\", \"width\": 0.5}, \"marker\": {\"line\": {\"color\": \"orangered\", \"width\": 0.5}, \"size\": 0.5, \"symbol\": \"line-ew\"}, \"type\": \"scatter\", \"x\": [2012, 2012], \"y\": [165116, 360408]}, {\"hoverinfo\": \"skip\", \"line\": {\"color\": \"orangered\", \"width\": 2.5}, \"marker\": {\"line\": {\"color\": \"orangered\", \"width\": 2.5}, \"size\": 2.5, \"symbol\": \"line-ew\"}, \"type\": \"scatter\", \"x\": [2016, 2016], \"y\": [246250, 2779594]}, {\"hoverinfo\": \"skip\", \"line\": {\"color\": \"orangered\", \"width\": 4.5}, \"marker\": {\"line\": {\"color\": \"orangered\", \"width\": 4.5}, \"size\": 4.5, \"symbol\": \"line-ew\"}, \"type\": \"scatter\", \"x\": [2020, 2020], \"y\": [194600, 2578355]}],\n",
              "                        {\"template\": {\"data\": {\"bar\": [{\"error_x\": {\"color\": \"#2a3f5f\"}, \"error_y\": {\"color\": \"#2a3f5f\"}, \"marker\": {\"line\": {\"color\": \"#E5ECF6\", \"width\": 0.5}}, \"type\": \"bar\"}], \"barpolar\": [{\"marker\": {\"line\": {\"color\": \"#E5ECF6\", \"width\": 0.5}}, \"type\": \"barpolar\"}], \"carpet\": [{\"aaxis\": {\"endlinecolor\": \"#2a3f5f\", \"gridcolor\": \"white\", \"linecolor\": \"white\", \"minorgridcolor\": \"white\", \"startlinecolor\": \"#2a3f5f\"}, \"baxis\": {\"endlinecolor\": \"#2a3f5f\", \"gridcolor\": \"white\", \"linecolor\": \"white\", \"minorgridcolor\": \"white\", \"startlinecolor\": \"#2a3f5f\"}, \"type\": \"carpet\"}], \"choropleth\": [{\"colorbar\": {\"outlinewidth\": 0, \"ticks\": \"\"}, \"type\": \"choropleth\"}], \"contour\": [{\"colorbar\": {\"outlinewidth\": 0, \"ticks\": \"\"}, \"colorscale\": [[0.0, \"#0d0887\"], [0.1111111111111111, \"#46039f\"], [0.2222222222222222, \"#7201a8\"], [0.3333333333333333, \"#9c179e\"], [0.4444444444444444, \"#bd3786\"], [0.5555555555555556, \"#d8576b\"], [0.6666666666666666, \"#ed7953\"], [0.7777777777777778, \"#fb9f3a\"], [0.8888888888888888, \"#fdca26\"], [1.0, \"#f0f921\"]], \"type\": \"contour\"}], \"contourcarpet\": [{\"colorbar\": {\"outlinewidth\": 0, \"ticks\": \"\"}, \"type\": \"contourcarpet\"}], \"heatmap\": [{\"colorbar\": {\"outlinewidth\": 0, \"ticks\": \"\"}, \"colorscale\": [[0.0, \"#0d0887\"], [0.1111111111111111, \"#46039f\"], [0.2222222222222222, \"#7201a8\"], [0.3333333333333333, \"#9c179e\"], [0.4444444444444444, \"#bd3786\"], [0.5555555555555556, \"#d8576b\"], [0.6666666666666666, \"#ed7953\"], [0.7777777777777778, \"#fb9f3a\"], [0.8888888888888888, \"#fdca26\"], [1.0, \"#f0f921\"]], \"type\": \"heatmap\"}], \"heatmapgl\": [{\"colorbar\": {\"outlinewidth\": 0, \"ticks\": \"\"}, \"colorscale\": [[0.0, \"#0d0887\"], [0.1111111111111111, \"#46039f\"], [0.2222222222222222, \"#7201a8\"], [0.3333333333333333, \"#9c179e\"], [0.4444444444444444, \"#bd3786\"], [0.5555555555555556, \"#d8576b\"], [0.6666666666666666, \"#ed7953\"], [0.7777777777777778, \"#fb9f3a\"], [0.8888888888888888, \"#fdca26\"], [1.0, \"#f0f921\"]], \"type\": \"heatmapgl\"}], \"histogram\": [{\"marker\": {\"colorbar\": {\"outlinewidth\": 0, \"ticks\": \"\"}}, \"type\": \"histogram\"}], \"histogram2d\": [{\"colorbar\": {\"outlinewidth\": 0, \"ticks\": \"\"}, \"colorscale\": [[0.0, \"#0d0887\"], [0.1111111111111111, \"#46039f\"], [0.2222222222222222, \"#7201a8\"], [0.3333333333333333, \"#9c179e\"], [0.4444444444444444, \"#bd3786\"], [0.5555555555555556, \"#d8576b\"], [0.6666666666666666, \"#ed7953\"], [0.7777777777777778, \"#fb9f3a\"], [0.8888888888888888, \"#fdca26\"], [1.0, \"#f0f921\"]], \"type\": \"histogram2d\"}], \"histogram2dcontour\": [{\"colorbar\": {\"outlinewidth\": 0, \"ticks\": \"\"}, \"colorscale\": [[0.0, \"#0d0887\"], [0.1111111111111111, \"#46039f\"], [0.2222222222222222, \"#7201a8\"], [0.3333333333333333, \"#9c179e\"], [0.4444444444444444, \"#bd3786\"], [0.5555555555555556, \"#d8576b\"], [0.6666666666666666, \"#ed7953\"], [0.7777777777777778, \"#fb9f3a\"], [0.8888888888888888, \"#fdca26\"], [1.0, \"#f0f921\"]], \"type\": \"histogram2dcontour\"}], \"mesh3d\": [{\"colorbar\": {\"outlinewidth\": 0, \"ticks\": \"\"}, \"type\": \"mesh3d\"}], \"parcoords\": [{\"line\": {\"colorbar\": {\"outlinewidth\": 0, \"ticks\": \"\"}}, \"type\": \"parcoords\"}], \"pie\": [{\"automargin\": true, \"type\": \"pie\"}], \"scatter\": [{\"marker\": {\"colorbar\": {\"outlinewidth\": 0, \"ticks\": \"\"}}, \"type\": \"scatter\"}], \"scatter3d\": [{\"line\": {\"colorbar\": {\"outlinewidth\": 0, \"ticks\": \"\"}}, \"marker\": {\"colorbar\": {\"outlinewidth\": 0, \"ticks\": \"\"}}, \"type\": \"scatter3d\"}], \"scattercarpet\": [{\"marker\": {\"colorbar\": {\"outlinewidth\": 0, \"ticks\": \"\"}}, \"type\": \"scattercarpet\"}], \"scattergeo\": [{\"marker\": {\"colorbar\": {\"outlinewidth\": 0, \"ticks\": \"\"}}, \"type\": \"scattergeo\"}], \"scattergl\": [{\"marker\": {\"colorbar\": {\"outlinewidth\": 0, \"ticks\": \"\"}}, \"type\": \"scattergl\"}], \"scattermapbox\": [{\"marker\": {\"colorbar\": {\"outlinewidth\": 0, \"ticks\": \"\"}}, \"type\": \"scattermapbox\"}], \"scatterpolar\": [{\"marker\": {\"colorbar\": {\"outlinewidth\": 0, \"ticks\": \"\"}}, \"type\": \"scatterpolar\"}], \"scatterpolargl\": [{\"marker\": {\"colorbar\": {\"outlinewidth\": 0, \"ticks\": \"\"}}, \"type\": \"scatterpolargl\"}], \"scatterternary\": [{\"marker\": {\"colorbar\": {\"outlinewidth\": 0, \"ticks\": \"\"}}, \"type\": \"scatterternary\"}], \"surface\": [{\"colorbar\": {\"outlinewidth\": 0, \"ticks\": \"\"}, \"colorscale\": [[0.0, \"#0d0887\"], [0.1111111111111111, \"#46039f\"], [0.2222222222222222, \"#7201a8\"], [0.3333333333333333, \"#9c179e\"], [0.4444444444444444, \"#bd3786\"], [0.5555555555555556, \"#d8576b\"], [0.6666666666666666, \"#ed7953\"], [0.7777777777777778, \"#fb9f3a\"], [0.8888888888888888, \"#fdca26\"], [1.0, \"#f0f921\"]], \"type\": \"surface\"}], \"table\": [{\"cells\": {\"fill\": {\"color\": \"#EBF0F8\"}, \"line\": {\"color\": \"white\"}}, \"header\": {\"fill\": {\"color\": \"#C8D4E3\"}, \"line\": {\"color\": \"white\"}}, \"type\": \"table\"}]}, \"layout\": {\"annotationdefaults\": {\"arrowcolor\": \"#2a3f5f\", \"arrowhead\": 0, \"arrowwidth\": 1}, \"coloraxis\": {\"colorbar\": {\"outlinewidth\": 0, \"ticks\": \"\"}}, \"colorscale\": {\"diverging\": [[0, \"#8e0152\"], [0.1, \"#c51b7d\"], [0.2, \"#de77ae\"], [0.3, \"#f1b6da\"], [0.4, \"#fde0ef\"], [0.5, \"#f7f7f7\"], [0.6, \"#e6f5d0\"], [0.7, \"#b8e186\"], [0.8, \"#7fbc41\"], [0.9, \"#4d9221\"], [1, \"#276419\"]], \"sequential\": [[0.0, \"#0d0887\"], [0.1111111111111111, \"#46039f\"], [0.2222222222222222, \"#7201a8\"], [0.3333333333333333, \"#9c179e\"], [0.4444444444444444, \"#bd3786\"], [0.5555555555555556, \"#d8576b\"], [0.6666666666666666, \"#ed7953\"], [0.7777777777777778, \"#fb9f3a\"], [0.8888888888888888, \"#fdca26\"], [1.0, \"#f0f921\"]], \"sequentialminus\": [[0.0, \"#0d0887\"], [0.1111111111111111, \"#46039f\"], [0.2222222222222222, \"#7201a8\"], [0.3333333333333333, \"#9c179e\"], [0.4444444444444444, \"#bd3786\"], [0.5555555555555556, \"#d8576b\"], [0.6666666666666666, \"#ed7953\"], [0.7777777777777778, \"#fb9f3a\"], [0.8888888888888888, \"#fdca26\"], [1.0, \"#f0f921\"]]}, \"colorway\": [\"#636efa\", \"#EF553B\", \"#00cc96\", \"#ab63fa\", \"#FFA15A\", \"#19d3f3\", \"#FF6692\", \"#B6E880\", \"#FF97FF\", \"#FECB52\"], \"font\": {\"color\": \"#2a3f5f\"}, \"geo\": {\"bgcolor\": \"white\", \"lakecolor\": \"white\", \"landcolor\": \"#E5ECF6\", \"showlakes\": true, \"showland\": true, \"subunitcolor\": \"white\"}, \"hoverlabel\": {\"align\": \"left\"}, \"hovermode\": \"closest\", \"mapbox\": {\"style\": \"light\"}, \"paper_bgcolor\": \"white\", \"plot_bgcolor\": \"#E5ECF6\", \"polar\": {\"angularaxis\": {\"gridcolor\": \"white\", \"linecolor\": \"white\", \"ticks\": \"\"}, \"bgcolor\": \"#E5ECF6\", \"radialaxis\": {\"gridcolor\": \"white\", \"linecolor\": \"white\", \"ticks\": \"\"}}, \"scene\": {\"xaxis\": {\"backgroundcolor\": \"#E5ECF6\", \"gridcolor\": \"white\", \"gridwidth\": 2, \"linecolor\": \"white\", \"showbackground\": true, \"ticks\": \"\", \"zerolinecolor\": \"white\"}, \"yaxis\": {\"backgroundcolor\": \"#E5ECF6\", \"gridcolor\": \"white\", \"gridwidth\": 2, \"linecolor\": \"white\", \"showbackground\": true, \"ticks\": \"\", \"zerolinecolor\": \"white\"}, \"zaxis\": {\"backgroundcolor\": \"#E5ECF6\", \"gridcolor\": \"white\", \"gridwidth\": 2, \"linecolor\": \"white\", \"showbackground\": true, \"ticks\": \"\", \"zerolinecolor\": \"white\"}}, \"shapedefaults\": {\"line\": {\"color\": \"#2a3f5f\"}}, \"ternary\": {\"aaxis\": {\"gridcolor\": \"white\", \"linecolor\": \"white\", \"ticks\": \"\"}, \"baxis\": {\"gridcolor\": \"white\", \"linecolor\": \"white\", \"ticks\": \"\"}, \"bgcolor\": \"#E5ECF6\", \"caxis\": {\"gridcolor\": \"white\", \"linecolor\": \"white\", \"ticks\": \"\"}}, \"title\": {\"x\": 0.05}, \"xaxis\": {\"automargin\": true, \"gridcolor\": \"white\", \"linecolor\": \"white\", \"ticks\": \"\", \"title\": {\"standoff\": 15}, \"zerolinecolor\": \"white\", \"zerolinewidth\": 2}, \"yaxis\": {\"automargin\": true, \"gridcolor\": \"white\", \"linecolor\": \"white\", \"ticks\": \"\", \"title\": {\"standoff\": 15}, \"zerolinecolor\": \"white\", \"zerolinewidth\": 2}}}},\n",
              "                        {\"responsive\": true}\n",
              "                    ).then(function(){\n",
              "                            \n",
              "var gd = document.getElementById('fba958a3-1a57-464e-895b-2158f152ea55');\n",
              "var x = new MutationObserver(function (mutations, observer) {{\n",
              "        var display = window.getComputedStyle(gd).display;\n",
              "        if (!display || display === 'none') {{\n",
              "            console.log([gd, 'removed!']);\n",
              "            Plotly.purge(gd);\n",
              "            observer.disconnect();\n",
              "        }}\n",
              "}});\n",
              "\n",
              "// Listen for the removal of the full notebook cells\n",
              "var notebookContainer = gd.closest('#notebook-container');\n",
              "if (notebookContainer) {{\n",
              "    x.observe(notebookContainer, {childList: true});\n",
              "}}\n",
              "\n",
              "// Listen for the clearing of the current output cell\n",
              "var outputEl = gd.closest('.output');\n",
              "if (outputEl) {{\n",
              "    x.observe(outputEl, {childList: true});\n",
              "}}\n",
              "\n",
              "                        })\n",
              "                };\n",
              "                \n",
              "            </script>\n",
              "        </div>\n",
              "</body>\n",
              "</html>"
            ]
          },
          "metadata": {
            "tags": []
          }
        }
      ]
    },
    {
      "cell_type": "code",
      "metadata": {
        "colab": {
          "base_uri": "https://localhost:8080/",
          "height": 417
        },
        "id": "VML5fQxpnEkT",
        "outputId": "426684bc-1348-459e-c24e-9b7443c7fb9a"
      },
      "source": [
        "#Make graph more explanative through basic configurations\n",
        "fig.update_layout(title = {'text':'Der Inhalt wird im Durchschnitt hochwertiger und zieht mehr Leser:innen an', \n",
        "                           'font':{'family':'Roboto', 'size':14, 'color':'grey'}, \n",
        "                           'y':0.8,\n",
        "                           'x':0.11\n",
        "                          },\n",
        "                  xaxis = {'linecolor':'lightgrey', \n",
        "                           'linewidth':.5, \n",
        "                           'ticks':'outside', \n",
        "                           'tickwidth':.5, \n",
        "                           'tickcolor':'lightgrey', \n",
        "                           'showgrid':False, \n",
        "                           'tickfont':{'family':'Roboto', 'color':'grey'}, \n",
        "                           'tickmode':'array',\n",
        "                           'tickvals':[2012, 2016, 2020]\n",
        "                          },\n",
        "                  template = 'plotly_white',\n",
        "                  width = 1200,\n",
        "                  height = 400,\n",
        "                  yaxis = {'visible':False, \n",
        "                          },\n",
        "                  showlegend=False\n",
        "                 )"
      ],
      "execution_count": null,
      "outputs": [
        {
          "output_type": "display_data",
          "data": {
            "text/html": [
              "<html>\n",
              "<head><meta charset=\"utf-8\" /></head>\n",
              "<body>\n",
              "    <div>\n",
              "            <script src=\"https://cdnjs.cloudflare.com/ajax/libs/mathjax/2.7.5/MathJax.js?config=TeX-AMS-MML_SVG\"></script><script type=\"text/javascript\">if (window.MathJax) {MathJax.Hub.Config({SVG: {font: \"STIX-Web\"}});}</script>\n",
              "                <script type=\"text/javascript\">window.PlotlyConfig = {MathJaxConfig: 'local'};</script>\n",
              "        <script src=\"https://cdn.plot.ly/plotly-latest.min.js\"></script>    \n",
              "            <div id=\"b0372fcc-5e6d-40f9-8760-5e48f42675c9\" class=\"plotly-graph-div\" style=\"height:400px; width:1200px;\"></div>\n",
              "            <script type=\"text/javascript\">\n",
              "                \n",
              "                    window.PLOTLYENV=window.PLOTLYENV || {};\n",
              "                    \n",
              "                if (document.getElementById(\"b0372fcc-5e6d-40f9-8760-5e48f42675c9\")) {\n",
              "                    Plotly.newPlot(\n",
              "                        'b0372fcc-5e6d-40f9-8760-5e48f42675c9',\n",
              "                        [{\"hoverinfo\": \"skip\", \"line\": {\"color\": \"seagreen\", \"width\": 2}, \"mode\": \"lines\", \"type\": \"scatter\", \"x\": [2011, 2012, 2013, 2014, 2015, 2016, 2017, 2018, 2019, 2020, 2021], \"y\": [169035, 460408, 1781620, 1695663, 2252577, 2879594, 2906266, 3107013, 2383400, 2678355, 1406712]}, {\"hoverinfo\": \"skip\", \"line\": {\"color\": \"navy\", \"width\": 2}, \"mode\": \"lines\", \"type\": \"scatter\", \"x\": [2011, 2012, 2013, 2014, 2015, 2016, 2017, 2018, 2019, 2020, 2021], \"y\": [28808, 65116, 178593, 137737, 139145, 146250, 123136, 111088, 102179, 94600, 60746]}, {\"hoverinfo\": \"skip\", \"line\": {\"color\": \"orangered\", \"width\": 0.5}, \"marker\": {\"line\": {\"color\": \"orangered\", \"width\": 0.5}, \"size\": 0.5, \"symbol\": \"line-ew\"}, \"type\": \"scatter\", \"x\": [2012, 2012], \"y\": [165116, 360408]}, {\"hoverinfo\": \"skip\", \"line\": {\"color\": \"orangered\", \"width\": 2.5}, \"marker\": {\"line\": {\"color\": \"orangered\", \"width\": 2.5}, \"size\": 2.5, \"symbol\": \"line-ew\"}, \"type\": \"scatter\", \"x\": [2016, 2016], \"y\": [246250, 2779594]}, {\"hoverinfo\": \"skip\", \"line\": {\"color\": \"orangered\", \"width\": 4.5}, \"marker\": {\"line\": {\"color\": \"orangered\", \"width\": 4.5}, \"size\": 4.5, \"symbol\": \"line-ew\"}, \"type\": \"scatter\", \"x\": [2020, 2020], \"y\": [194600, 2578355]}],\n",
              "                        {\"height\": 400, \"showlegend\": false, \"template\": {\"data\": {\"bar\": [{\"error_x\": {\"color\": \"#2a3f5f\"}, \"error_y\": {\"color\": \"#2a3f5f\"}, \"marker\": {\"line\": {\"color\": \"white\", \"width\": 0.5}}, \"type\": \"bar\"}], \"barpolar\": [{\"marker\": {\"line\": {\"color\": \"white\", \"width\": 0.5}}, \"type\": \"barpolar\"}], \"carpet\": [{\"aaxis\": {\"endlinecolor\": \"#2a3f5f\", \"gridcolor\": \"#C8D4E3\", \"linecolor\": \"#C8D4E3\", \"minorgridcolor\": \"#C8D4E3\", \"startlinecolor\": \"#2a3f5f\"}, \"baxis\": {\"endlinecolor\": \"#2a3f5f\", \"gridcolor\": \"#C8D4E3\", \"linecolor\": \"#C8D4E3\", \"minorgridcolor\": \"#C8D4E3\", \"startlinecolor\": \"#2a3f5f\"}, \"type\": \"carpet\"}], \"choropleth\": [{\"colorbar\": {\"outlinewidth\": 0, \"ticks\": \"\"}, \"type\": \"choropleth\"}], \"contour\": [{\"colorbar\": {\"outlinewidth\": 0, \"ticks\": \"\"}, \"colorscale\": [[0.0, \"#0d0887\"], [0.1111111111111111, \"#46039f\"], [0.2222222222222222, \"#7201a8\"], [0.3333333333333333, \"#9c179e\"], [0.4444444444444444, \"#bd3786\"], [0.5555555555555556, \"#d8576b\"], [0.6666666666666666, \"#ed7953\"], [0.7777777777777778, \"#fb9f3a\"], [0.8888888888888888, \"#fdca26\"], [1.0, \"#f0f921\"]], \"type\": \"contour\"}], \"contourcarpet\": [{\"colorbar\": {\"outlinewidth\": 0, \"ticks\": \"\"}, \"type\": \"contourcarpet\"}], \"heatmap\": [{\"colorbar\": {\"outlinewidth\": 0, \"ticks\": \"\"}, \"colorscale\": [[0.0, \"#0d0887\"], [0.1111111111111111, \"#46039f\"], [0.2222222222222222, \"#7201a8\"], [0.3333333333333333, \"#9c179e\"], [0.4444444444444444, \"#bd3786\"], [0.5555555555555556, \"#d8576b\"], [0.6666666666666666, \"#ed7953\"], [0.7777777777777778, \"#fb9f3a\"], [0.8888888888888888, \"#fdca26\"], [1.0, \"#f0f921\"]], \"type\": \"heatmap\"}], \"heatmapgl\": [{\"colorbar\": {\"outlinewidth\": 0, \"ticks\": \"\"}, \"colorscale\": [[0.0, \"#0d0887\"], [0.1111111111111111, \"#46039f\"], [0.2222222222222222, \"#7201a8\"], [0.3333333333333333, \"#9c179e\"], [0.4444444444444444, \"#bd3786\"], [0.5555555555555556, \"#d8576b\"], [0.6666666666666666, \"#ed7953\"], [0.7777777777777778, \"#fb9f3a\"], [0.8888888888888888, \"#fdca26\"], [1.0, \"#f0f921\"]], \"type\": \"heatmapgl\"}], \"histogram\": [{\"marker\": {\"colorbar\": {\"outlinewidth\": 0, \"ticks\": \"\"}}, \"type\": \"histogram\"}], \"histogram2d\": [{\"colorbar\": {\"outlinewidth\": 0, \"ticks\": \"\"}, \"colorscale\": [[0.0, \"#0d0887\"], [0.1111111111111111, \"#46039f\"], [0.2222222222222222, \"#7201a8\"], [0.3333333333333333, \"#9c179e\"], [0.4444444444444444, \"#bd3786\"], [0.5555555555555556, \"#d8576b\"], [0.6666666666666666, \"#ed7953\"], [0.7777777777777778, \"#fb9f3a\"], [0.8888888888888888, \"#fdca26\"], [1.0, \"#f0f921\"]], \"type\": \"histogram2d\"}], \"histogram2dcontour\": [{\"colorbar\": {\"outlinewidth\": 0, \"ticks\": \"\"}, \"colorscale\": [[0.0, \"#0d0887\"], [0.1111111111111111, \"#46039f\"], [0.2222222222222222, \"#7201a8\"], [0.3333333333333333, \"#9c179e\"], [0.4444444444444444, \"#bd3786\"], [0.5555555555555556, \"#d8576b\"], [0.6666666666666666, \"#ed7953\"], [0.7777777777777778, \"#fb9f3a\"], [0.8888888888888888, \"#fdca26\"], [1.0, \"#f0f921\"]], \"type\": \"histogram2dcontour\"}], \"mesh3d\": [{\"colorbar\": {\"outlinewidth\": 0, \"ticks\": \"\"}, \"type\": \"mesh3d\"}], \"parcoords\": [{\"line\": {\"colorbar\": {\"outlinewidth\": 0, \"ticks\": \"\"}}, \"type\": \"parcoords\"}], \"pie\": [{\"automargin\": true, \"type\": \"pie\"}], \"scatter\": [{\"marker\": {\"colorbar\": {\"outlinewidth\": 0, \"ticks\": \"\"}}, \"type\": \"scatter\"}], \"scatter3d\": [{\"line\": {\"colorbar\": {\"outlinewidth\": 0, \"ticks\": \"\"}}, \"marker\": {\"colorbar\": {\"outlinewidth\": 0, \"ticks\": \"\"}}, \"type\": \"scatter3d\"}], \"scattercarpet\": [{\"marker\": {\"colorbar\": {\"outlinewidth\": 0, \"ticks\": \"\"}}, \"type\": \"scattercarpet\"}], \"scattergeo\": [{\"marker\": {\"colorbar\": {\"outlinewidth\": 0, \"ticks\": \"\"}}, \"type\": \"scattergeo\"}], \"scattergl\": [{\"marker\": {\"colorbar\": {\"outlinewidth\": 0, \"ticks\": \"\"}}, \"type\": \"scattergl\"}], \"scattermapbox\": [{\"marker\": {\"colorbar\": {\"outlinewidth\": 0, \"ticks\": \"\"}}, \"type\": \"scattermapbox\"}], \"scatterpolar\": [{\"marker\": {\"colorbar\": {\"outlinewidth\": 0, \"ticks\": \"\"}}, \"type\": \"scatterpolar\"}], \"scatterpolargl\": [{\"marker\": {\"colorbar\": {\"outlinewidth\": 0, \"ticks\": \"\"}}, \"type\": \"scatterpolargl\"}], \"scatterternary\": [{\"marker\": {\"colorbar\": {\"outlinewidth\": 0, \"ticks\": \"\"}}, \"type\": \"scatterternary\"}], \"surface\": [{\"colorbar\": {\"outlinewidth\": 0, \"ticks\": \"\"}, \"colorscale\": [[0.0, \"#0d0887\"], [0.1111111111111111, \"#46039f\"], [0.2222222222222222, \"#7201a8\"], [0.3333333333333333, \"#9c179e\"], [0.4444444444444444, \"#bd3786\"], [0.5555555555555556, \"#d8576b\"], [0.6666666666666666, \"#ed7953\"], [0.7777777777777778, \"#fb9f3a\"], [0.8888888888888888, \"#fdca26\"], [1.0, \"#f0f921\"]], \"type\": \"surface\"}], \"table\": [{\"cells\": {\"fill\": {\"color\": \"#EBF0F8\"}, \"line\": {\"color\": \"white\"}}, \"header\": {\"fill\": {\"color\": \"#C8D4E3\"}, \"line\": {\"color\": \"white\"}}, \"type\": \"table\"}]}, \"layout\": {\"annotationdefaults\": {\"arrowcolor\": \"#2a3f5f\", \"arrowhead\": 0, \"arrowwidth\": 1}, \"coloraxis\": {\"colorbar\": {\"outlinewidth\": 0, \"ticks\": \"\"}}, \"colorscale\": {\"diverging\": [[0, \"#8e0152\"], [0.1, \"#c51b7d\"], [0.2, \"#de77ae\"], [0.3, \"#f1b6da\"], [0.4, \"#fde0ef\"], [0.5, \"#f7f7f7\"], [0.6, \"#e6f5d0\"], [0.7, \"#b8e186\"], [0.8, \"#7fbc41\"], [0.9, \"#4d9221\"], [1, \"#276419\"]], \"sequential\": [[0.0, \"#0d0887\"], [0.1111111111111111, \"#46039f\"], [0.2222222222222222, \"#7201a8\"], [0.3333333333333333, \"#9c179e\"], [0.4444444444444444, \"#bd3786\"], [0.5555555555555556, \"#d8576b\"], [0.6666666666666666, \"#ed7953\"], [0.7777777777777778, \"#fb9f3a\"], [0.8888888888888888, \"#fdca26\"], [1.0, \"#f0f921\"]], \"sequentialminus\": [[0.0, \"#0d0887\"], [0.1111111111111111, \"#46039f\"], [0.2222222222222222, \"#7201a8\"], [0.3333333333333333, \"#9c179e\"], [0.4444444444444444, \"#bd3786\"], [0.5555555555555556, \"#d8576b\"], [0.6666666666666666, \"#ed7953\"], [0.7777777777777778, \"#fb9f3a\"], [0.8888888888888888, \"#fdca26\"], [1.0, \"#f0f921\"]]}, \"colorway\": [\"#636efa\", \"#EF553B\", \"#00cc96\", \"#ab63fa\", \"#FFA15A\", \"#19d3f3\", \"#FF6692\", \"#B6E880\", \"#FF97FF\", \"#FECB52\"], \"font\": {\"color\": \"#2a3f5f\"}, \"geo\": {\"bgcolor\": \"white\", \"lakecolor\": \"white\", \"landcolor\": \"white\", \"showlakes\": true, \"showland\": true, \"subunitcolor\": \"#C8D4E3\"}, \"hoverlabel\": {\"align\": \"left\"}, \"hovermode\": \"closest\", \"mapbox\": {\"style\": \"light\"}, \"paper_bgcolor\": \"white\", \"plot_bgcolor\": \"white\", \"polar\": {\"angularaxis\": {\"gridcolor\": \"#EBF0F8\", \"linecolor\": \"#EBF0F8\", \"ticks\": \"\"}, \"bgcolor\": \"white\", \"radialaxis\": {\"gridcolor\": \"#EBF0F8\", \"linecolor\": \"#EBF0F8\", \"ticks\": \"\"}}, \"scene\": {\"xaxis\": {\"backgroundcolor\": \"white\", \"gridcolor\": \"#DFE8F3\", \"gridwidth\": 2, \"linecolor\": \"#EBF0F8\", \"showbackground\": true, \"ticks\": \"\", \"zerolinecolor\": \"#EBF0F8\"}, \"yaxis\": {\"backgroundcolor\": \"white\", \"gridcolor\": \"#DFE8F3\", \"gridwidth\": 2, \"linecolor\": \"#EBF0F8\", \"showbackground\": true, \"ticks\": \"\", \"zerolinecolor\": \"#EBF0F8\"}, \"zaxis\": {\"backgroundcolor\": \"white\", \"gridcolor\": \"#DFE8F3\", \"gridwidth\": 2, \"linecolor\": \"#EBF0F8\", \"showbackground\": true, \"ticks\": \"\", \"zerolinecolor\": \"#EBF0F8\"}}, \"shapedefaults\": {\"line\": {\"color\": \"#2a3f5f\"}}, \"ternary\": {\"aaxis\": {\"gridcolor\": \"#DFE8F3\", \"linecolor\": \"#A2B1C6\", \"ticks\": \"\"}, \"baxis\": {\"gridcolor\": \"#DFE8F3\", \"linecolor\": \"#A2B1C6\", \"ticks\": \"\"}, \"bgcolor\": \"white\", \"caxis\": {\"gridcolor\": \"#DFE8F3\", \"linecolor\": \"#A2B1C6\", \"ticks\": \"\"}}, \"title\": {\"x\": 0.05}, \"xaxis\": {\"automargin\": true, \"gridcolor\": \"#EBF0F8\", \"linecolor\": \"#EBF0F8\", \"ticks\": \"\", \"title\": {\"standoff\": 15}, \"zerolinecolor\": \"#EBF0F8\", \"zerolinewidth\": 2}, \"yaxis\": {\"automargin\": true, \"gridcolor\": \"#EBF0F8\", \"linecolor\": \"#EBF0F8\", \"ticks\": \"\", \"title\": {\"standoff\": 15}, \"zerolinecolor\": \"#EBF0F8\", \"zerolinewidth\": 2}}}, \"title\": {\"font\": {\"color\": \"grey\", \"family\": \"Roboto\", \"size\": 14}, \"text\": \"Der Inhalt wird im Durchschnitt hochwertiger und zieht mehr Leser:innen an\", \"x\": 0.11, \"y\": 0.8}, \"width\": 1200, \"xaxis\": {\"linecolor\": \"lightgrey\", \"linewidth\": 0.5, \"showgrid\": false, \"tickcolor\": \"lightgrey\", \"tickfont\": {\"color\": \"grey\", \"family\": \"Roboto\"}, \"tickmode\": \"array\", \"ticks\": \"outside\", \"tickvals\": [2012, 2016, 2020], \"tickwidth\": 0.5}, \"yaxis\": {\"visible\": false}},\n",
              "                        {\"responsive\": true}\n",
              "                    ).then(function(){\n",
              "                            \n",
              "var gd = document.getElementById('b0372fcc-5e6d-40f9-8760-5e48f42675c9');\n",
              "var x = new MutationObserver(function (mutations, observer) {{\n",
              "        var display = window.getComputedStyle(gd).display;\n",
              "        if (!display || display === 'none') {{\n",
              "            console.log([gd, 'removed!']);\n",
              "            Plotly.purge(gd);\n",
              "            observer.disconnect();\n",
              "        }}\n",
              "}});\n",
              "\n",
              "// Listen for the removal of the full notebook cells\n",
              "var notebookContainer = gd.closest('#notebook-container');\n",
              "if (notebookContainer) {{\n",
              "    x.observe(notebookContainer, {childList: true});\n",
              "}}\n",
              "\n",
              "// Listen for the clearing of the current output cell\n",
              "var outputEl = gd.closest('.output');\n",
              "if (outputEl) {{\n",
              "    x.observe(outputEl, {childList: true});\n",
              "}}\n",
              "\n",
              "                        })\n",
              "                };\n",
              "                \n",
              "            </script>\n",
              "        </div>\n",
              "</body>\n",
              "</html>"
            ]
          },
          "metadata": {
            "tags": []
          }
        }
      ]
    },
    {
      "cell_type": "code",
      "metadata": {
        "colab": {
          "base_uri": "https://localhost:8080/",
          "height": 417
        },
        "id": "pwyKTu2Enb6M",
        "outputId": "a611bd8c-dc23-44f5-8668-d01e17d0f139"
      },
      "source": [
        "#Add names of the lines through annotations   \n",
        "fig.add_annotation(\n",
        "    x = 2021.1, \n",
        "    y = numbers.values[-1], \n",
        "    text='Anzahl der Forumseinträge', \n",
        "    showarrow = False, \n",
        "    font={'family':'Roboto', \n",
        "          'color':'navy', \n",
        "          'size':13\n",
        "         }, \n",
        "    xanchor = 'left'\n",
        ")\n",
        "\n",
        "fig.add_annotation(\n",
        "    x = 2021.1, \n",
        "    y = upvotes.values[-1], \n",
        "    text='Anzahl der Upvotes', \n",
        "    showarrow = False, \n",
        "    font={'family':'Roboto', \n",
        "          'color':'seagreen', \n",
        "          'size':13\n",
        "         }, \n",
        "    xanchor = 'left'\n",
        ")\n",
        "\n",
        "#Add numbers to the upvotes line\n",
        "fig.add_annotation(\n",
        "                  x=2012, \n",
        "                  y=upvotes[2012] + 300000, \n",
        "                  text='460K', \n",
        "                  showarrow=False, \n",
        "                  xanchor='center',\n",
        "                  font = {'family':'Roboto', \n",
        "                          'color':'seagreen', \n",
        "                          'size':13}\n",
        ")\n",
        "\n",
        "fig.add_annotation(\n",
        "                  x=2016, \n",
        "                  y=upvotes[2016] + 300000, \n",
        "                  text='2.9M', \n",
        "                  showarrow=False, \n",
        "                  xanchor='center',\n",
        "                  font = {'family':'Roboto', \n",
        "                          'color':'seagreen', \n",
        "                          'size':13}\n",
        ")\n",
        "\n",
        "fig.add_annotation(\n",
        "                  x=2020, \n",
        "                  y=upvotes[2020] + 300000, \n",
        "                  text='2.7M', \n",
        "                  showarrow=False, \n",
        "                  xanchor='center',\n",
        "                  font = {'family':'Roboto', \n",
        "                          'color':'seagreen', \n",
        "                          'size':13}\n",
        ")\n",
        "\n",
        "#Add number to the numbers line\n",
        "fig.add_annotation(\n",
        "                  x=2012, \n",
        "                  y=numbers[2012] - 150000, \n",
        "                  text='65K', \n",
        "                  showarrow=False, \n",
        "                  xanchor='center',\n",
        "                  font = {'family':'Roboto', \n",
        "                          'color':'navy', \n",
        "                          'size':13}\n",
        ")\n",
        "\n",
        "fig.add_annotation(\n",
        "                  x=2016, \n",
        "                  y=numbers[2016] - 150000, \n",
        "                  text='150K', \n",
        "                  showarrow=False, \n",
        "                  xanchor='center',\n",
        "                  font = {'family':'Roboto', \n",
        "                          'color':'navy', \n",
        "                          'size':13}\n",
        ")\n",
        "\n",
        "fig.add_annotation(\n",
        "                  x=2020, \n",
        "                  y=numbers[2020] - 150000, \n",
        "                  text='94K', \n",
        "                  showarrow=False, \n",
        "                  xanchor='center',\n",
        "                  font = {'family':'Roboto', \n",
        "                          'color':'navy', \n",
        "                          'size':13}\n",
        ")\n",
        "\n",
        "#Add numbers to the vertical lines\n",
        "fig.add_annotation(\n",
        "                  x=2012.3, \n",
        "                  y=numbers[2012]/2 + upvotes[2012]/2, \n",
        "                  text='7-fach', \n",
        "                  showarrow=False, \n",
        "                  xanchor='center',\n",
        "                  font = {'family':'Roboto', \n",
        "                          'color':'orangered', \n",
        "                          'size':10}\n",
        ")\n",
        "\n",
        "fig.add_annotation(\n",
        "                  x=2016.3, \n",
        "                  y=numbers[2016]/2 + upvotes[2016]/2, \n",
        "                  text='20-fach', \n",
        "                  showarrow=False, \n",
        "                  xanchor='center',\n",
        "                  font = {'family':'Roboto', \n",
        "                          'color':'orangered', \n",
        "                          'size':12}\n",
        ")\n",
        "\n",
        "fig.add_annotation(\n",
        "                  x=2020.4, \n",
        "                  y=numbers[2020]/2 + upvotes[2020]/2, \n",
        "                  text='29-fach', \n",
        "                  showarrow=False, \n",
        "                  xanchor='center',\n",
        "                  font = {'family':'Roboto', \n",
        "                          'color':'orangered', \n",
        "                          'size':16}\n",
        ")"
      ],
      "execution_count": null,
      "outputs": [
        {
          "output_type": "display_data",
          "data": {
            "text/html": [
              "<html>\n",
              "<head><meta charset=\"utf-8\" /></head>\n",
              "<body>\n",
              "    <div>\n",
              "            <script src=\"https://cdnjs.cloudflare.com/ajax/libs/mathjax/2.7.5/MathJax.js?config=TeX-AMS-MML_SVG\"></script><script type=\"text/javascript\">if (window.MathJax) {MathJax.Hub.Config({SVG: {font: \"STIX-Web\"}});}</script>\n",
              "                <script type=\"text/javascript\">window.PlotlyConfig = {MathJaxConfig: 'local'};</script>\n",
              "        <script src=\"https://cdn.plot.ly/plotly-latest.min.js\"></script>    \n",
              "            <div id=\"56b0dc66-5cec-4b03-bd53-969bd7d4b293\" class=\"plotly-graph-div\" style=\"height:400px; width:1200px;\"></div>\n",
              "            <script type=\"text/javascript\">\n",
              "                \n",
              "                    window.PLOTLYENV=window.PLOTLYENV || {};\n",
              "                    \n",
              "                if (document.getElementById(\"56b0dc66-5cec-4b03-bd53-969bd7d4b293\")) {\n",
              "                    Plotly.newPlot(\n",
              "                        '56b0dc66-5cec-4b03-bd53-969bd7d4b293',\n",
              "                        [{\"hoverinfo\": \"skip\", \"line\": {\"color\": \"seagreen\", \"width\": 2}, \"mode\": \"lines\", \"type\": \"scatter\", \"x\": [2011, 2012, 2013, 2014, 2015, 2016, 2017, 2018, 2019, 2020, 2021], \"y\": [169035, 460408, 1781620, 1695663, 2252577, 2879594, 2906266, 3107013, 2383400, 2678355, 1406712]}, {\"hoverinfo\": \"skip\", \"line\": {\"color\": \"navy\", \"width\": 2}, \"mode\": \"lines\", \"type\": \"scatter\", \"x\": [2011, 2012, 2013, 2014, 2015, 2016, 2017, 2018, 2019, 2020, 2021], \"y\": [28808, 65116, 178593, 137737, 139145, 146250, 123136, 111088, 102179, 94600, 60746]}, {\"hoverinfo\": \"skip\", \"line\": {\"color\": \"orangered\", \"width\": 0.5}, \"marker\": {\"line\": {\"color\": \"orangered\", \"width\": 0.5}, \"size\": 0.5, \"symbol\": \"line-ew\"}, \"type\": \"scatter\", \"x\": [2012, 2012], \"y\": [165116, 360408]}, {\"hoverinfo\": \"skip\", \"line\": {\"color\": \"orangered\", \"width\": 2.5}, \"marker\": {\"line\": {\"color\": \"orangered\", \"width\": 2.5}, \"size\": 2.5, \"symbol\": \"line-ew\"}, \"type\": \"scatter\", \"x\": [2016, 2016], \"y\": [246250, 2779594]}, {\"hoverinfo\": \"skip\", \"line\": {\"color\": \"orangered\", \"width\": 4.5}, \"marker\": {\"line\": {\"color\": \"orangered\", \"width\": 4.5}, \"size\": 4.5, \"symbol\": \"line-ew\"}, \"type\": \"scatter\", \"x\": [2020, 2020], \"y\": [194600, 2578355]}],\n",
              "                        {\"annotations\": [{\"font\": {\"color\": \"navy\", \"family\": \"Roboto\", \"size\": 13}, \"showarrow\": false, \"text\": \"Anzahl der Forumseintr\\u00e4ge\", \"x\": 2021.1, \"xanchor\": \"left\", \"y\": 60746}, {\"font\": {\"color\": \"navy\", \"family\": \"Roboto\", \"size\": 13}, \"showarrow\": false, \"text\": \"Anzahl der Forumseintr\\u00e4ge\", \"x\": 2021.1, \"xanchor\": \"left\", \"y\": 60746}, {\"font\": {\"color\": \"seagreen\", \"family\": \"Roboto\", \"size\": 13}, \"showarrow\": false, \"text\": \"Anzahl der Upvotes\", \"x\": 2021.1, \"xanchor\": \"left\", \"y\": 1406712}, {\"font\": {\"color\": \"seagreen\", \"family\": \"Roboto\", \"size\": 13}, \"showarrow\": false, \"text\": \"460K\", \"x\": 2012, \"xanchor\": \"center\", \"y\": 760408}, {\"font\": {\"color\": \"seagreen\", \"family\": \"Roboto\", \"size\": 13}, \"showarrow\": false, \"text\": \"2.9M\", \"x\": 2016, \"xanchor\": \"center\", \"y\": 3179594}, {\"font\": {\"color\": \"seagreen\", \"family\": \"Roboto\", \"size\": 13}, \"showarrow\": false, \"text\": \"2.7M\", \"x\": 2020, \"xanchor\": \"center\", \"y\": 2978355}, {\"font\": {\"color\": \"navy\", \"family\": \"Roboto\", \"size\": 13}, \"showarrow\": false, \"text\": \"65K\", \"x\": 2012, \"xanchor\": \"center\", \"y\": -84884}, {\"font\": {\"color\": \"navy\", \"family\": \"Roboto\", \"size\": 13}, \"showarrow\": false, \"text\": \"150K\", \"x\": 2016, \"xanchor\": \"center\", \"y\": -3750}, {\"font\": {\"color\": \"navy\", \"family\": \"Roboto\", \"size\": 13}, \"showarrow\": false, \"text\": \"94K\", \"x\": 2020, \"xanchor\": \"center\", \"y\": -55400}, {\"font\": {\"color\": \"orangered\", \"family\": \"Roboto\", \"size\": 10}, \"showarrow\": false, \"text\": \"7-fach\", \"x\": 2012.3, \"xanchor\": \"center\", \"y\": 262762.0}, {\"font\": {\"color\": \"orangered\", \"family\": \"Roboto\", \"size\": 12}, \"showarrow\": false, \"text\": \"20-fach\", \"x\": 2016.3, \"xanchor\": \"center\", \"y\": 1512922.0}, {\"font\": {\"color\": \"orangered\", \"family\": \"Roboto\", \"size\": 16}, \"showarrow\": false, \"text\": \"29-fach\", \"x\": 2020.4, \"xanchor\": \"center\", \"y\": 1386477.5}], \"height\": 400, \"showlegend\": false, \"template\": {\"data\": {\"bar\": [{\"error_x\": {\"color\": \"#2a3f5f\"}, \"error_y\": {\"color\": \"#2a3f5f\"}, \"marker\": {\"line\": {\"color\": \"white\", \"width\": 0.5}}, \"type\": \"bar\"}], \"barpolar\": [{\"marker\": {\"line\": {\"color\": \"white\", \"width\": 0.5}}, \"type\": \"barpolar\"}], \"carpet\": [{\"aaxis\": {\"endlinecolor\": \"#2a3f5f\", \"gridcolor\": \"#C8D4E3\", \"linecolor\": \"#C8D4E3\", \"minorgridcolor\": \"#C8D4E3\", \"startlinecolor\": \"#2a3f5f\"}, \"baxis\": {\"endlinecolor\": \"#2a3f5f\", \"gridcolor\": \"#C8D4E3\", \"linecolor\": \"#C8D4E3\", \"minorgridcolor\": \"#C8D4E3\", \"startlinecolor\": \"#2a3f5f\"}, \"type\": \"carpet\"}], \"choropleth\": [{\"colorbar\": {\"outlinewidth\": 0, \"ticks\": \"\"}, \"type\": \"choropleth\"}], \"contour\": [{\"colorbar\": {\"outlinewidth\": 0, \"ticks\": \"\"}, \"colorscale\": [[0.0, \"#0d0887\"], [0.1111111111111111, \"#46039f\"], [0.2222222222222222, \"#7201a8\"], [0.3333333333333333, \"#9c179e\"], [0.4444444444444444, \"#bd3786\"], [0.5555555555555556, \"#d8576b\"], [0.6666666666666666, \"#ed7953\"], [0.7777777777777778, \"#fb9f3a\"], [0.8888888888888888, \"#fdca26\"], [1.0, \"#f0f921\"]], \"type\": \"contour\"}], \"contourcarpet\": [{\"colorbar\": {\"outlinewidth\": 0, \"ticks\": \"\"}, \"type\": \"contourcarpet\"}], \"heatmap\": [{\"colorbar\": {\"outlinewidth\": 0, \"ticks\": \"\"}, \"colorscale\": [[0.0, \"#0d0887\"], [0.1111111111111111, \"#46039f\"], [0.2222222222222222, \"#7201a8\"], [0.3333333333333333, \"#9c179e\"], [0.4444444444444444, \"#bd3786\"], [0.5555555555555556, \"#d8576b\"], [0.6666666666666666, \"#ed7953\"], [0.7777777777777778, \"#fb9f3a\"], [0.8888888888888888, \"#fdca26\"], [1.0, \"#f0f921\"]], \"type\": \"heatmap\"}], \"heatmapgl\": [{\"colorbar\": {\"outlinewidth\": 0, \"ticks\": \"\"}, \"colorscale\": [[0.0, \"#0d0887\"], [0.1111111111111111, \"#46039f\"], [0.2222222222222222, \"#7201a8\"], [0.3333333333333333, \"#9c179e\"], [0.4444444444444444, \"#bd3786\"], [0.5555555555555556, \"#d8576b\"], [0.6666666666666666, \"#ed7953\"], [0.7777777777777778, \"#fb9f3a\"], [0.8888888888888888, \"#fdca26\"], [1.0, \"#f0f921\"]], \"type\": \"heatmapgl\"}], \"histogram\": [{\"marker\": {\"colorbar\": {\"outlinewidth\": 0, \"ticks\": \"\"}}, \"type\": \"histogram\"}], \"histogram2d\": [{\"colorbar\": {\"outlinewidth\": 0, \"ticks\": \"\"}, \"colorscale\": [[0.0, \"#0d0887\"], [0.1111111111111111, \"#46039f\"], [0.2222222222222222, \"#7201a8\"], [0.3333333333333333, \"#9c179e\"], [0.4444444444444444, \"#bd3786\"], [0.5555555555555556, \"#d8576b\"], [0.6666666666666666, \"#ed7953\"], [0.7777777777777778, \"#fb9f3a\"], [0.8888888888888888, \"#fdca26\"], [1.0, \"#f0f921\"]], \"type\": \"histogram2d\"}], \"histogram2dcontour\": [{\"colorbar\": {\"outlinewidth\": 0, \"ticks\": \"\"}, \"colorscale\": [[0.0, \"#0d0887\"], [0.1111111111111111, \"#46039f\"], [0.2222222222222222, \"#7201a8\"], [0.3333333333333333, \"#9c179e\"], [0.4444444444444444, \"#bd3786\"], [0.5555555555555556, \"#d8576b\"], [0.6666666666666666, \"#ed7953\"], [0.7777777777777778, \"#fb9f3a\"], [0.8888888888888888, \"#fdca26\"], [1.0, \"#f0f921\"]], \"type\": \"histogram2dcontour\"}], \"mesh3d\": [{\"colorbar\": {\"outlinewidth\": 0, \"ticks\": \"\"}, \"type\": \"mesh3d\"}], \"parcoords\": [{\"line\": {\"colorbar\": {\"outlinewidth\": 0, \"ticks\": \"\"}}, \"type\": \"parcoords\"}], \"pie\": [{\"automargin\": true, \"type\": \"pie\"}], \"scatter\": [{\"marker\": {\"colorbar\": {\"outlinewidth\": 0, \"ticks\": \"\"}}, \"type\": \"scatter\"}], \"scatter3d\": [{\"line\": {\"colorbar\": {\"outlinewidth\": 0, \"ticks\": \"\"}}, \"marker\": {\"colorbar\": {\"outlinewidth\": 0, \"ticks\": \"\"}}, \"type\": \"scatter3d\"}], \"scattercarpet\": [{\"marker\": {\"colorbar\": {\"outlinewidth\": 0, \"ticks\": \"\"}}, \"type\": \"scattercarpet\"}], \"scattergeo\": [{\"marker\": {\"colorbar\": {\"outlinewidth\": 0, \"ticks\": \"\"}}, \"type\": \"scattergeo\"}], \"scattergl\": [{\"marker\": {\"colorbar\": {\"outlinewidth\": 0, \"ticks\": \"\"}}, \"type\": \"scattergl\"}], \"scattermapbox\": [{\"marker\": {\"colorbar\": {\"outlinewidth\": 0, \"ticks\": \"\"}}, \"type\": \"scattermapbox\"}], \"scatterpolar\": [{\"marker\": {\"colorbar\": {\"outlinewidth\": 0, \"ticks\": \"\"}}, \"type\": \"scatterpolar\"}], \"scatterpolargl\": [{\"marker\": {\"colorbar\": {\"outlinewidth\": 0, \"ticks\": \"\"}}, \"type\": \"scatterpolargl\"}], \"scatterternary\": [{\"marker\": {\"colorbar\": {\"outlinewidth\": 0, \"ticks\": \"\"}}, \"type\": \"scatterternary\"}], \"surface\": [{\"colorbar\": {\"outlinewidth\": 0, \"ticks\": \"\"}, \"colorscale\": [[0.0, \"#0d0887\"], [0.1111111111111111, \"#46039f\"], [0.2222222222222222, \"#7201a8\"], [0.3333333333333333, \"#9c179e\"], [0.4444444444444444, \"#bd3786\"], [0.5555555555555556, \"#d8576b\"], [0.6666666666666666, \"#ed7953\"], [0.7777777777777778, \"#fb9f3a\"], [0.8888888888888888, \"#fdca26\"], [1.0, \"#f0f921\"]], \"type\": \"surface\"}], \"table\": [{\"cells\": {\"fill\": {\"color\": \"#EBF0F8\"}, \"line\": {\"color\": \"white\"}}, \"header\": {\"fill\": {\"color\": \"#C8D4E3\"}, \"line\": {\"color\": \"white\"}}, \"type\": \"table\"}]}, \"layout\": {\"annotationdefaults\": {\"arrowcolor\": \"#2a3f5f\", \"arrowhead\": 0, \"arrowwidth\": 1}, \"coloraxis\": {\"colorbar\": {\"outlinewidth\": 0, \"ticks\": \"\"}}, \"colorscale\": {\"diverging\": [[0, \"#8e0152\"], [0.1, \"#c51b7d\"], [0.2, \"#de77ae\"], [0.3, \"#f1b6da\"], [0.4, \"#fde0ef\"], [0.5, \"#f7f7f7\"], [0.6, \"#e6f5d0\"], [0.7, \"#b8e186\"], [0.8, \"#7fbc41\"], [0.9, \"#4d9221\"], [1, \"#276419\"]], \"sequential\": [[0.0, \"#0d0887\"], [0.1111111111111111, \"#46039f\"], [0.2222222222222222, \"#7201a8\"], [0.3333333333333333, \"#9c179e\"], [0.4444444444444444, \"#bd3786\"], [0.5555555555555556, \"#d8576b\"], [0.6666666666666666, \"#ed7953\"], [0.7777777777777778, \"#fb9f3a\"], [0.8888888888888888, \"#fdca26\"], [1.0, \"#f0f921\"]], \"sequentialminus\": [[0.0, \"#0d0887\"], [0.1111111111111111, \"#46039f\"], [0.2222222222222222, \"#7201a8\"], [0.3333333333333333, \"#9c179e\"], [0.4444444444444444, \"#bd3786\"], [0.5555555555555556, \"#d8576b\"], [0.6666666666666666, \"#ed7953\"], [0.7777777777777778, \"#fb9f3a\"], [0.8888888888888888, \"#fdca26\"], [1.0, \"#f0f921\"]]}, \"colorway\": [\"#636efa\", \"#EF553B\", \"#00cc96\", \"#ab63fa\", \"#FFA15A\", \"#19d3f3\", \"#FF6692\", \"#B6E880\", \"#FF97FF\", \"#FECB52\"], \"font\": {\"color\": \"#2a3f5f\"}, \"geo\": {\"bgcolor\": \"white\", \"lakecolor\": \"white\", \"landcolor\": \"white\", \"showlakes\": true, \"showland\": true, \"subunitcolor\": \"#C8D4E3\"}, \"hoverlabel\": {\"align\": \"left\"}, \"hovermode\": \"closest\", \"mapbox\": {\"style\": \"light\"}, \"paper_bgcolor\": \"white\", \"plot_bgcolor\": \"white\", \"polar\": {\"angularaxis\": {\"gridcolor\": \"#EBF0F8\", \"linecolor\": \"#EBF0F8\", \"ticks\": \"\"}, \"bgcolor\": \"white\", \"radialaxis\": {\"gridcolor\": \"#EBF0F8\", \"linecolor\": \"#EBF0F8\", \"ticks\": \"\"}}, \"scene\": {\"xaxis\": {\"backgroundcolor\": \"white\", \"gridcolor\": \"#DFE8F3\", \"gridwidth\": 2, \"linecolor\": \"#EBF0F8\", \"showbackground\": true, \"ticks\": \"\", \"zerolinecolor\": \"#EBF0F8\"}, \"yaxis\": {\"backgroundcolor\": \"white\", \"gridcolor\": \"#DFE8F3\", \"gridwidth\": 2, \"linecolor\": \"#EBF0F8\", \"showbackground\": true, \"ticks\": \"\", \"zerolinecolor\": \"#EBF0F8\"}, \"zaxis\": {\"backgroundcolor\": \"white\", \"gridcolor\": \"#DFE8F3\", \"gridwidth\": 2, \"linecolor\": \"#EBF0F8\", \"showbackground\": true, \"ticks\": \"\", \"zerolinecolor\": \"#EBF0F8\"}}, \"shapedefaults\": {\"line\": {\"color\": \"#2a3f5f\"}}, \"ternary\": {\"aaxis\": {\"gridcolor\": \"#DFE8F3\", \"linecolor\": \"#A2B1C6\", \"ticks\": \"\"}, \"baxis\": {\"gridcolor\": \"#DFE8F3\", \"linecolor\": \"#A2B1C6\", \"ticks\": \"\"}, \"bgcolor\": \"white\", \"caxis\": {\"gridcolor\": \"#DFE8F3\", \"linecolor\": \"#A2B1C6\", \"ticks\": \"\"}}, \"title\": {\"x\": 0.05}, \"xaxis\": {\"automargin\": true, \"gridcolor\": \"#EBF0F8\", \"linecolor\": \"#EBF0F8\", \"ticks\": \"\", \"title\": {\"standoff\": 15}, \"zerolinecolor\": \"#EBF0F8\", \"zerolinewidth\": 2}, \"yaxis\": {\"automargin\": true, \"gridcolor\": \"#EBF0F8\", \"linecolor\": \"#EBF0F8\", \"ticks\": \"\", \"title\": {\"standoff\": 15}, \"zerolinecolor\": \"#EBF0F8\", \"zerolinewidth\": 2}}}, \"title\": {\"font\": {\"color\": \"grey\", \"family\": \"Roboto\", \"size\": 14}, \"text\": \"Der Inhalt wird im Durchschnitt hochwertiger und zieht mehr Leser:innen an\", \"x\": 0.11, \"y\": 0.8}, \"width\": 1200, \"xaxis\": {\"linecolor\": \"lightgrey\", \"linewidth\": 0.5, \"showgrid\": false, \"tickcolor\": \"lightgrey\", \"tickfont\": {\"color\": \"grey\", \"family\": \"Roboto\"}, \"tickmode\": \"array\", \"ticks\": \"outside\", \"tickvals\": [2012, 2016, 2020], \"tickwidth\": 0.5}, \"yaxis\": {\"visible\": false}},\n",
              "                        {\"responsive\": true}\n",
              "                    ).then(function(){\n",
              "                            \n",
              "var gd = document.getElementById('56b0dc66-5cec-4b03-bd53-969bd7d4b293');\n",
              "var x = new MutationObserver(function (mutations, observer) {{\n",
              "        var display = window.getComputedStyle(gd).display;\n",
              "        if (!display || display === 'none') {{\n",
              "            console.log([gd, 'removed!']);\n",
              "            Plotly.purge(gd);\n",
              "            observer.disconnect();\n",
              "        }}\n",
              "}});\n",
              "\n",
              "// Listen for the removal of the full notebook cells\n",
              "var notebookContainer = gd.closest('#notebook-container');\n",
              "if (notebookContainer) {{\n",
              "    x.observe(notebookContainer, {childList: true});\n",
              "}}\n",
              "\n",
              "// Listen for the clearing of the current output cell\n",
              "var outputEl = gd.closest('.output');\n",
              "if (outputEl) {{\n",
              "    x.observe(outputEl, {childList: true});\n",
              "}}\n",
              "\n",
              "                        })\n",
              "                };\n",
              "                \n",
              "            </script>\n",
              "        </div>\n",
              "</body>\n",
              "</html>"
            ]
          },
          "metadata": {
            "tags": []
          }
        }
      ]
    },
    {
      "cell_type": "markdown",
      "metadata": {
        "id": "p5ceJeYN546T"
      },
      "source": [
        "## **<font size = 6 color = '#17415f'>Interaktivität?**"
      ]
    },
    {
      "cell_type": "markdown",
      "metadata": {
        "id": "6aFYTioi59HR"
      },
      "source": [
        "- Viel Spaß bei der nächsten Lektion mit meinen Kollegen Alexander Friedenberger und Merlin Schäfer!"
      ]
    }
  ]
}